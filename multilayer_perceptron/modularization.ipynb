{
 "cells": [
  {
   "cell_type": "code",
   "execution_count": 1,
   "metadata": {},
   "outputs": [],
   "source": [
    "import torch\n",
    "from torch.utils.data import TensorDataset, DataLoader\n",
    "from sklearn.datasets import load_digits\n",
    "from sklearn.model_selection import train_test_split\n",
    "\n",
    "\n",
    "digits = load_digits()\n",
    "X = digits.data\n",
    "Y = digits.target\n",
    "X_train, X_test, Y_train, Y_test = train_test_split(X, Y, test_size=0.3)\n",
    "X_train, X_test = torch.Tensor(X_train), torch.Tensor(X_test)\n",
    "Y_train, Y_test = torch.LongTensor(Y_train), torch.LongTensor(Y_test)\n",
    "ds = TensorDataset(X_train, Y_train)\n",
    "loader = DataLoader(ds, batch_size=32, shuffle=True)"
   ]
  },
  {
   "cell_type": "code",
   "execution_count": 2,
   "metadata": {},
   "outputs": [],
   "source": [
    "from torch import nn\n",
    "\n",
    "\n",
    "class CustomLinear(nn.Module):\n",
    "    def __init__(self, in_features, out_features, bias=True, p=0.5):\n",
    "        super().__init__()\n",
    "        self.linear = nn.Linear(in_features, out_features, bias)\n",
    "        self.relu = nn.ReLU()\n",
    "        self.drop = nn.Dropout(p)\n",
    "        \n",
    "    def forward(self, x):\n",
    "        x = self.linear(x)\n",
    "        x = self.relu(x)\n",
    "        x = self.drop(x)\n",
    "        return x"
   ]
  },
  {
   "cell_type": "code",
   "execution_count": 3,
   "metadata": {},
   "outputs": [],
   "source": [
    "from torch import optim\n",
    "\n",
    "k = 100\n",
    "mlp = nn.Sequential(\n",
    "    CustomLinear(64, k),\n",
    "    CustomLinear(k, k),\n",
    "    CustomLinear(k, k),\n",
    "    CustomLinear(k, k),\n",
    "    nn.Linear(k, 10)\n",
    ")\n",
    "loss_fn = nn.CrossEntropyLoss()\n",
    "optimizer = optim.Adam(mlp.parameters())"
   ]
  },
  {
   "cell_type": "code",
   "execution_count": 4,
   "metadata": {},
   "outputs": [],
   "source": [
    "from torch.autograd import Variable as V\n",
    "\n",
    "\n",
    "train_losses = []\n",
    "test_losses = []\n",
    "for epoch in range(100):\n",
    "    running_loss = 0.0\n",
    "    # ネットワークを訓練モードに切り替える\n",
    "    mlp.train()\n",
    "    for i, (x, y) in enumerate(loader):\n",
    "        xx = V(x)\n",
    "        yy = V(y)\n",
    "        y_pred = mlp(xx)\n",
    "        loss = loss_fn(y_pred, yy)\n",
    "        optimizer.zero_grad()\n",
    "        loss.backward()\n",
    "        optimizer.step()\n",
    "        running_loss += loss.data[0]\n",
    "    train_losses.append(running_loss / i)\n",
    "    y_pred = mlp(V(X_test))\n",
    "    # ネットワークを評価モードに切り替える\n",
    "    mlp.eval()\n",
    "    test_loss = loss_fn(y_pred, V(Y_test))\n",
    "    test_losses.append(test_loss.data[0])"
   ]
  },
  {
   "cell_type": "code",
   "execution_count": 5,
   "metadata": {},
   "outputs": [
    {
     "data": {
      "text/plain": [
       "<matplotlib.legend.Legend at 0x7f790608c0f0>"
      ]
     },
     "execution_count": 5,
     "metadata": {},
     "output_type": "execute_result"
    },
    {
     "data": {
      "image/png": "[encoded data removed]",
      "text/plain": [
       "<matplotlib.figure.Figure at 0x7f79064210f0>"
      ]
     },
     "metadata": {},
     "output_type": "display_data"
    }
   ],
   "source": [
    "%matplotlib inline\n",
    "from matplotlib import pyplot as plt\n",
    "\n",
    "\n",
    "plt.plot(train_losses, label='train_loss')\n",
    "plt.plot(test_losses, label='test_loss')\n",
    "plt.legend(loc='upper right')"
   ]
  },
  {
   "cell_type": "code",
   "execution_count": 6,
   "metadata": {},
   "outputs": [],
   "source": [
    "# さらにモジュール化する、ついでにバッチノーマリゼーションつける\n",
    "class CustomLinear(nn.Module):\n",
    "    def __init__(self, in_features, out_features, bias=True, p=0.5):\n",
    "        super().__init__()\n",
    "        self.linear = nn.Linear(in_features, out_features, bias)\n",
    "        self.relu = nn.ReLU()\n",
    "        self.batch_norm = nn.BatchNorm1d(out_features)\n",
    "        self.drop = nn.Dropout(p)\n",
    "        \n",
    "    def forward(self, x):\n",
    "        x = self.linear(x)\n",
    "        x = self.relu(x)\n",
    "        x = self.batch_norm(x)\n",
    "        x = self.drop(x)\n",
    "        return x"
   ]
  },
  {
   "cell_type": "code",
   "execution_count": 7,
   "metadata": {},
   "outputs": [],
   "source": [
    "k = 100\n",
    "\n",
    "\n",
    "class MyMLP(nn.Module):\n",
    "    def __init__(self, in_features, out_features):\n",
    "        super().__init__()\n",
    "        self.in1 = CustomLinear(in_features, k)\n",
    "        self.in2 = CustomLinear(k, k)\n",
    "        self.in3 = CustomLinear(k, k)\n",
    "        self.in4 = CustomLinear(k, k)\n",
    "        self.in5 = nn.Linear(k, out_features)\n",
    "        \n",
    "    def forward(self, x):\n",
    "        x = self.in1(x)\n",
    "        x = self.in2(x)\n",
    "        x = self.in3(x)\n",
    "        x = self.in4(x)\n",
    "        x = self.in5(x)\n",
    "        return x"
   ]
  },
  {
   "cell_type": "code",
   "execution_count": 8,
   "metadata": {},
   "outputs": [],
   "source": [
    "mlp = MyMLP(64, 10)\n",
    "loss_fn = nn.CrossEntropyLoss()\n",
    "optimizer = optim.Adam(mlp.parameters())"
   ]
  },
  {
   "cell_type": "code",
   "execution_count": 9,
   "metadata": {},
   "outputs": [],
   "source": [
    "train_losses = []\n",
    "test_losses = []\n",
    "for epoch in range(100):\n",
    "    running_loss = 0.0\n",
    "    # ネットワークを訓練モードに切り替える\n",
    "    mlp.train()\n",
    "    for i, (x, y) in enumerate(loader):\n",
    "        xx = V(x)\n",
    "        yy = V(y)\n",
    "        y_pred = mlp(xx)\n",
    "        loss = loss_fn(y_pred, yy)\n",
    "        optimizer.zero_grad()\n",
    "        loss.backward()\n",
    "        optimizer.step()\n",
    "        running_loss += loss.data[0]\n",
    "    train_losses.append(running_loss / i)\n",
    "    y_pred = mlp(V(X_test))\n",
    "    # ネットワークを評価モードに切り替える\n",
    "    mlp.eval()\n",
    "    test_loss = loss_fn(y_pred, V(Y_test))\n",
    "    test_losses.append(test_loss.data[0])"
   ]
  },
  {
   "cell_type": "code",
   "execution_count": 10,
   "metadata": {},
   "outputs": [
    {
     "data": {
      "text/plain": [
       "<matplotlib.legend.Legend at 0x7f790600ec88>"
      ]
     },
     "execution_count": 10,
     "metadata": {},
     "output_type": "execute_result"
    },
    {
     "data": {
      "image/png": "[encoded data removed]",
      "text/plain": [
       "<matplotlib.figure.Figure at 0x7f7906045358>"
      ]
     },
     "metadata": {},
     "output_type": "display_data"
    }
   ],
   "source": [
    "%matplotlib inline\n",
    "from matplotlib import pyplot as plt\n",
    "\n",
    "\n",
    "plt.plot(train_losses, label='train_loss')\n",
    "plt.plot(test_losses, label='test_loss')\n",
    "plt.legend(loc='upper right')"
   ]
  }
 ],
 "metadata": {
  "kernelspec": {
   "display_name": "Python 3",
   "language": "python",
   "name": "python3"
  },
  "language_info": {
   "codemirror_mode": {
    "name": "ipython",
    "version": 3
   },
   "file_extension": ".py",
   "mimetype": "text/x-python",
   "name": "python",
   "nbconvert_exporter": "python",
   "pygments_lexer": "ipython3",
   "version": "3.5.1"
  }
 },
 "nbformat": 4,
 "nbformat_minor": 2
}
