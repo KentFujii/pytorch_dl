{
 "cells": [
  {
   "cell_type": "code",
   "execution_count": 1,
   "metadata": {},
   "outputs": [
    {
     "name": "stdout",
     "output_type": "stream",
     "text": [
      "torch.Size([100, 3])\n",
      "torch.Size([100])\n",
      "torch.Size([3])\n"
     ]
    }
   ],
   "source": [
    "# 二変数の線形モデルを考える\n",
    "# y = 1 + 2*x1 + 3*x2\n",
    "import torch\n",
    "from torch.autograd import Variable as V\n",
    "\n",
    "\n",
    "w_true = torch.Tensor([1, 2, 3])\n",
    "# 適当に入力データを作成\n",
    "X = torch.cat([torch.ones(100, 1), torch.randn(100, 2)], 1)\n",
    "# 真の出力に揺らぎを与えてテストデータを作る\n",
    "y = torch.mv(X, w_true) + torch.randn(100) * 0.5\n",
    "X = V(X)\n",
    "y = V(y)\n",
    "w = V(torch.randn(3), requires_grad=True)\n",
    "print(X.size())\n",
    "print(y.size())\n",
    "print(w.size())\n",
    "gamma = 0.1"
   ]
  },
  {
   "cell_type": "code",
   "execution_count": 2,
   "metadata": {},
   "outputs": [],
   "source": [
    "losses = []\n",
    "for epoc in range(100):\n",
    "    # 前回のbackwardメソッドで計算された勾配の値を削除\n",
    "    w.grad = None\n",
    "    # マトリクスとベクトルの掛け算\n",
    "    y_pred = torch.mv(X, w)\n",
    "    # 最小二乗法\n",
    "    loss = torch.mean((y - y_pred) ** 2)\n",
    "    loss.backward()\n",
    "    # 最小二乗法のバックプロパゲートから得たwの勾配分だけ学習させる\n",
    "    w.data = w.data - gamma * w.grad.data\n",
    "    losses.append(loss.data[0])"
   ]
  },
  {
   "cell_type": "code",
   "execution_count": 3,
   "metadata": {},
   "outputs": [
    {
     "data": {
      "text/plain": [
       "[<matplotlib.lines.Line2D at 0x7f8751cbe978>]"
      ]
     },
     "execution_count": 3,
     "metadata": {},
     "output_type": "execute_result"
    },
    {
     "data": {
      "image/png": "[encoded data removed]",
      "text/plain": [
       "<matplotlib.figure.Figure at 0x7f877884a588>"
      ]
     },
     "metadata": {},
     "output_type": "display_data"
    }
   ],
   "source": [
    "%matplotlib inline\n",
    "from matplotlib import pyplot as plt\n",
    "\n",
    "\n",
    "plt.plot(losses)"
   ]
  },
  {
   "cell_type": "code",
   "execution_count": 4,
   "metadata": {},
   "outputs": [
    {
     "data": {
      "text/plain": [
       "Variable containing:\n",
       " 0.9687\n",
       " 1.9258\n",
       " 2.9780\n",
       "[torch.FloatTensor of size 3]"
      ]
     },
     "execution_count": 4,
     "metadata": {},
     "output_type": "execute_result"
    }
   ],
   "source": [
    "# 真の係数は[1, 2, 3]\n",
    "w"
   ]
  },
  {
   "cell_type": "code",
   "execution_count": 5,
   "metadata": {},
   "outputs": [],
   "source": [
    "# pytorchにビルドインされてる線形モデルと最適化法を使ってみる\n",
    "from torch import nn, optim\n",
    "\n",
    "# (3, 1)のモデル、切片をout_featureの中にいれるためbias項はなしにする\n",
    "net = nn.Linear(in_features=3, out_features=1, bias=False)\n",
    "# 確率的勾配降下法\n",
    "optimizer = optim.SGD(net.parameters(), lr=0.1)\n",
    "# 損失関数には最小二乗法をつかう\n",
    "loss_fn = nn.MSELoss()"
   ]
  },
  {
   "cell_type": "code",
   "execution_count": 6,
   "metadata": {},
   "outputs": [],
   "source": [
    "losses = []\n",
    "for epoc in range(100):\n",
    "    # 前回のbackwardメソッドで計算された勾配の値を削除\n",
    "    optimizer.zero_grad()\n",
    "    y_pred = net(X)\n",
    "    # 損失関数を計算\n",
    "    loss = loss_fn(y_pred, y)\n",
    "    # バックプロパゲーション\n",
    "    loss.backward()\n",
    "    # 勾配を更新する\n",
    "    optimizer.step()\n",
    "    losses.append(loss.data[0])"
   ]
  },
  {
   "cell_type": "code",
   "execution_count": 7,
   "metadata": {},
   "outputs": [
    {
     "data": {
      "text/plain": [
       "[Parameter containing:\n",
       "  0.9687  1.9258  2.9780\n",
       " [torch.FloatTensor of size 1x3]]"
      ]
     },
     "execution_count": 7,
     "metadata": {},
     "output_type": "execute_result"
    }
   ],
   "source": [
    "list(net.parameters())"
   ]
  }
 ],
 "metadata": {
  "kernelspec": {
   "display_name": "Python 3",
   "language": "python",
   "name": "python3"
  },
  "language_info": {
   "codemirror_mode": {
    "name": "ipython",
    "version": 3
   },
   "file_extension": ".py",
   "mimetype": "text/x-python",
   "name": "python",
   "nbconvert_exporter": "python",
   "pygments_lexer": "ipython3",
   "version": "3.5.1"
  }
 },
 "nbformat": 4,
 "nbformat_minor": 2
}
