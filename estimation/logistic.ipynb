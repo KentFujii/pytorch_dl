{
 "cells": [
  {
   "cell_type": "code",
   "execution_count": 1,
   "metadata": {},
   "outputs": [
    {
     "name": "stdout",
     "output_type": "stream",
     "text": [
      "torch.Size([100, 4])\n",
      "torch.Size([100])\n"
     ]
    }
   ],
   "source": [
    "# アヤメデータを用意する\n",
    "import torch\n",
    "from torch.autograd import Variable as V\n",
    "from sklearn.datasets import load_iris\n",
    "\n",
    "\n",
    "# 二クラス問題にするため100までしか取り込まない\n",
    "iris = load_iris()\n",
    "X = iris.data[:100]\n",
    "y = iris.target[:100]\n",
    "X = V(torch.Tensor(X))\n",
    "y = V(torch.Tensor(y))\n",
    "print(X.size())\n",
    "print(y.size())"
   ]
  },
  {
   "cell_type": "code",
   "execution_count": 2,
   "metadata": {},
   "outputs": [],
   "source": [
    "from torch import nn\n",
    "from torch import optim\n",
    "\n",
    "\n",
    "# アヤメデータの入力(4, 1)のモデル\n",
    "net = nn.Linear(4, 1)\n",
    "# 二値問題の分類問題の損失関数にはシグモイド関数を作用させたクロスエントロピーを使う\n",
    "# シグモイド関数を作用させたクロスエントロピー\n",
    "loss_fn = nn.BCEWithLogitsLoss()\n",
    "# 勾配計算は確率的最小勾配法\n",
    "optimizer = optim.SGD(net.parameters(), lr=0.25)"
   ]
  },
  {
   "cell_type": "code",
   "execution_count": 3,
   "metadata": {},
   "outputs": [],
   "source": [
    "losses = []\n",
    "for epoc in range(1000):\n",
    "    optimizer.zero_grad()\n",
    "    y_pred = net(X)\n",
    "    loss = loss_fn(y_pred, y.view(100, 1))\n",
    "    loss.backward()\n",
    "    optimizer.step()\n",
    "    losses.append(loss.data[0])"
   ]
  },
  {
   "cell_type": "code",
   "execution_count": 4,
   "metadata": {},
   "outputs": [
    {
     "data": {
      "text/plain": [
       "[<matplotlib.lines.Line2D at 0x7f71b0b44ac8>]"
      ]
     },
     "execution_count": 4,
     "metadata": {},
     "output_type": "execute_result"
    },
    {
     "data": {
      "image/png": "[encoded data removed]",
      "text/plain": [
       "<matplotlib.figure.Figure at 0x7f71eceabf28>"
      ]
     },
     "metadata": {},
     "output_type": "display_data"
    }
   ],
   "source": [
    "%matplotlib inline\n",
    "from matplotlib import pyplot as plt\n",
    "\n",
    "\n",
    "plt.plot(losses)"
   ]
  },
  {
   "cell_type": "code",
   "execution_count": 5,
   "metadata": {},
   "outputs": [
    {
     "data": {
      "text/plain": [
       "Variable containing:\n",
       " 100\n",
       "[torch.ByteTensor of size 1]"
      ]
     },
     "execution_count": 5,
     "metadata": {},
     "output_type": "execute_result"
    }
   ],
   "source": [
    "# 線型結合の結果\n",
    "h = net(X)\n",
    "# シグモイドを作用させた確率\n",
    "prob = nn.functional.sigmoid(h)\n",
    "# 確率として、0付近の値と1付近の値に固まってるはずなので、0.5以上でマスクする\n",
    "y_pred = prob > 0.5\n",
    "# マスクした結果が真の値と同じになる\n",
    "(y.byte().view(100, 1) == y_pred).sum()"
   ]
  },
  {
   "cell_type": "code",
   "execution_count": 6,
   "metadata": {},
   "outputs": [],
   "source": [
    "from sklearn.datasets import load_digits\n",
    "\n",
    "\n",
    "# 多クラス問題\n",
    "digits = load_digits()\n",
    "X = digits.data\n",
    "y = digits.target\n",
    "X = V(torch.Tensor(X))\n",
    "# CrossEntropyLoss()はLongTensorを返すので計算の型を合わせる\n",
    "y = V(torch.LongTensor(y))\n",
    "net = nn.Linear(X.size()[1], 10)\n",
    "# 多クラスの分類問題にはソフトマックスクロスエントロピーを損失関数に使う\n",
    "loss_fn = nn.CrossEntropyLoss()\n",
    "optimizer = optim.SGD(net.parameters(), lr=0.01)"
   ]
  },
  {
   "cell_type": "code",
   "execution_count": 7,
   "metadata": {},
   "outputs": [],
   "source": [
    "losses = []\n",
    "for epoc in range(1000):\n",
    "    optimizer.zero_grad()\n",
    "    y_pred = net(X)\n",
    "    loss = loss_fn(y_pred, y)\n",
    "    loss.backward()\n",
    "    optimizer.step()\n",
    "    losses.append(loss.data[0])"
   ]
  },
  {
   "cell_type": "code",
   "execution_count": 8,
   "metadata": {},
   "outputs": [
    {
     "data": {
      "text/plain": [
       "Variable containing:\n",
       " 0.9861\n",
       "[torch.FloatTensor of size 1]"
      ]
     },
     "execution_count": 8,
     "metadata": {},
     "output_type": "execute_result"
    }
   ],
   "source": [
    "# 答え合わせ\n",
    "# 確率の最大値のラベルを予測値として集計\n",
    "# torch.max()は集計軸を指定すると最大値とその位置のタプルを返す\n",
    "_, y_pred = torch.max(net(X), 1)\n",
    "# 正解率を計算\n",
    "(y_pred == y).float().sum() / len(y)"
   ]
  }
 ],
 "metadata": {
  "kernelspec": {
   "display_name": "Python 3",
   "language": "python",
   "name": "python3"
  },
  "language_info": {
   "codemirror_mode": {
    "name": "ipython",
    "version": 3
   },
   "file_extension": ".py",
   "mimetype": "text/x-python",
   "name": "python",
   "nbconvert_exporter": "python",
   "pygments_lexer": "ipython3",
   "version": "3.5.1"
  }
 },
 "nbformat": 4,
 "nbformat_minor": 2
}
