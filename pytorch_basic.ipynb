{
 "cells": [
  {
   "cell_type": "code",
   "execution_count": 1,
   "metadata": {},
   "outputs": [],
   "source": [
    "import numpy as np\n",
    "import torch"
   ]
  },
  {
   "cell_type": "code",
   "execution_count": 2,
   "metadata": {},
   "outputs": [
    {
     "name": "stdout",
     "output_type": "stream",
     "text": [
      "\n",
      " 1  2\n",
      " 3  4\n",
      "[torch.FloatTensor of size 2x2]\n",
      "\n",
      "\n",
      " 1  2\n",
      " 3  4\n",
      "[torch.DoubleTensor of size 2x2]\n",
      "\n",
      "\n",
      " 0\n",
      " 1\n",
      " 2\n",
      " 3\n",
      " 4\n",
      " 5\n",
      " 6\n",
      " 7\n",
      " 8\n",
      " 9\n",
      "[torch.FloatTensor of size 10]\n",
      "\n",
      "\n",
      "    0     0     0  ...      0     0     0\n",
      "    0     0     0  ...      0     0     0\n",
      "    0     0     0  ...      0     0     0\n",
      "       ...          ⋱          ...       \n",
      "    0     0     0  ...      0     0     0\n",
      "    0     0     0  ...      0     0     0\n",
      "    0     0     0  ...      0     0     0\n",
      "[torch.FloatTensor of size 100x10]\n",
      "\n",
      "\n",
      " 1.0474  0.3849 -0.7452  ...  -1.3069 -1.2059  1.5599\n",
      "-1.2831 -0.0244  0.6465  ...  -0.4016  0.3046 -0.3681\n",
      "-0.4478 -0.0183 -0.3191  ...  -0.5268 -0.2789 -0.9044\n",
      "          ...             ⋱             ...          \n",
      " 1.2106  0.5325 -0.2402  ...  -0.2466  0.2313  0.6230\n",
      "-0.6824 -0.7012  0.4520  ...   0.4404  0.8759 -1.4264\n",
      "-0.9586 -0.1327  1.1561  ...  -0.6272  0.7042 -1.3265\n",
      "[torch.FloatTensor of size 100x10]\n",
      "\n"
     ]
    }
   ],
   "source": [
    "t = torch.Tensor([[1, 2], [3, 4]])\n",
    "print(t)\n",
    "\n",
    "x = np.array([[1, 2], [3, 4]])\n",
    "t = torch.DoubleTensor(x)\n",
    "print(t)\n",
    "\n",
    "t = torch.arange(0, 10)\n",
    "print(t)\n",
    "\n",
    "t = torch.zeros(100, 10)\n",
    "print(t)\n",
    "\n",
    "t = torch.randn(100, 10)\n",
    "print(t)"
   ]
  },
  {
   "cell_type": "code",
   "execution_count": 3,
   "metadata": {},
   "outputs": [
    {
     "data": {
      "text/plain": [
       "torch.Size([100, 10])"
      ]
     },
     "execution_count": 3,
     "metadata": {},
     "output_type": "execute_result"
    }
   ],
   "source": [
    "t.size()"
   ]
  },
  {
   "cell_type": "code",
   "execution_count": 4,
   "metadata": {},
   "outputs": [
    {
     "name": "stdout",
     "output_type": "stream",
     "text": [
      "[[1. 2.]\n",
      " [3. 4.]]\n"
     ]
    }
   ],
   "source": [
    "t = torch.Tensor([[1, 2], [3, 4]])\n",
    "x = t.numpy()\n",
    "print(x)"
   ]
  },
  {
   "cell_type": "code",
   "execution_count": 5,
   "metadata": {},
   "outputs": [
    {
     "name": "stdout",
     "output_type": "stream",
     "text": [
      "3.0\n",
      "\n",
      " 1  2\n",
      " 4  5\n",
      "[torch.FloatTensor of size 2x2]\n",
      "\n",
      "\n",
      " 4\n",
      " 5\n",
      " 6\n",
      "[torch.FloatTensor of size 3]\n",
      "\n",
      "\n",
      "   1  100    3\n",
      "   4    5    6\n",
      "[torch.FloatTensor of size 2x3]\n",
      "\n",
      "\n",
      "   1  100    3\n",
      "   4  100    6\n",
      "[torch.FloatTensor of size 2x3]\n",
      "\n",
      "\n",
      "  1  20   3\n",
      "  4  20   6\n",
      "[torch.FloatTensor of size 2x3]\n",
      "\n"
     ]
    }
   ],
   "source": [
    "t = torch.Tensor([[1, 2, 3], [4, 5, 6]])\n",
    "print(t[0, 2])\n",
    "\n",
    "print(t[:, :2])\n",
    "\n",
    "print(t[t > 3])\n",
    "\n",
    "t[0, 1] = 100\n",
    "print(t)\n",
    "\n",
    "t[:, 1] = 100\n",
    "print(t)\n",
    "\n",
    "t[t > 10] = 20\n",
    "print(t)"
   ]
  },
  {
   "cell_type": "code",
   "execution_count": 6,
   "metadata": {},
   "outputs": [
    {
     "name": "stdout",
     "output_type": "stream",
     "text": [
      "\n",
      " 11\n",
      " 12\n",
      " 13\n",
      "[torch.FloatTensor of size 3]\n",
      "\n",
      "\n",
      " 1\n",
      " 4\n",
      " 9\n",
      "[torch.FloatTensor of size 3]\n",
      "\n",
      "\n",
      "  1\n",
      " -8\n",
      "-17\n",
      "[torch.FloatTensor of size 3]\n",
      "\n",
      "\n",
      "  8\n",
      "  9\n",
      " 10\n",
      "[torch.FloatTensor of size 3]\n",
      "\n",
      "\n",
      "   0    2    4\n",
      " 200  400  600\n",
      "[torch.FloatTensor of size 2x3]\n",
      "\n",
      "\n",
      "   1    3    5\n",
      " 101  202  303\n",
      "[torch.FloatTensor of size 2x3]\n",
      "\n",
      "\n",
      "   0    2    4\n",
      " 200  400  600\n",
      "[torch.FloatTensor of size 2x3]\n",
      "\n"
     ]
    }
   ],
   "source": [
    "v = torch.Tensor([1, 2, 3])\n",
    "w = torch.Tensor([0, 10, 20])\n",
    "m = torch.Tensor([[0, 1, 2], [100, 200, 300]])\n",
    "\n",
    "v2 = v + 10\n",
    "print(v2)\n",
    "\n",
    "v2 = v ** 2\n",
    "print(v2)\n",
    "\n",
    "z = v - w\n",
    "print(z)\n",
    "\n",
    "u = 2 * v - w / 10 + 6.0\n",
    "print(u)\n",
    "\n",
    "m2 = m * 2.0\n",
    "print(m2)\n",
    "\n",
    "m3 = m + v\n",
    "print(m3)\n",
    "\n",
    "m4 = m + m\n",
    "print(m4)"
   ]
  },
  {
   "cell_type": "code",
   "execution_count": null,
   "metadata": {},
   "outputs": [],
   "source": [
    "aaa"
   ]
  },
  {
   "cell_type": "code",
   "execution_count": null,
   "metadata": {},
   "outputs": [],
   "source": []
  }
 ],
 "metadata": {
  "kernelspec": {
   "display_name": "Python 3",
   "language": "python",
   "name": "python3"
  },
  "language_info": {
   "codemirror_mode": {
    "name": "ipython",
    "version": 3
   },
   "file_extension": ".py",
   "mimetype": "text/x-python",
   "name": "python",
   "nbconvert_exporter": "python",
   "pygments_lexer": "ipython3",
   "version": "3.5.1"
  }
 },
 "nbformat": 4,
 "nbformat_minor": 2
}
