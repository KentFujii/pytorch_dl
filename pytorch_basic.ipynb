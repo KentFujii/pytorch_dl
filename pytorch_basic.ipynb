{
 "cells": [
  {
   "cell_type": "code",
   "execution_count": 1,
   "metadata": {},
   "outputs": [],
   "source": [
    "import numpy as np\n",
    "import torch"
   ]
  },
  {
   "cell_type": "code",
   "execution_count": 2,
   "metadata": {},
   "outputs": [
    {
     "name": "stdout",
     "output_type": "stream",
     "text": [
      "\n",
      " 1  2\n",
      " 3  4\n",
      "[torch.FloatTensor of size 2x2]\n",
      "\n",
      "\n",
      " 1  2\n",
      " 3  4\n",
      "[torch.DoubleTensor of size 2x2]\n",
      "\n",
      "\n",
      " 0\n",
      " 1\n",
      " 2\n",
      " 3\n",
      " 4\n",
      " 5\n",
      " 6\n",
      " 7\n",
      " 8\n",
      " 9\n",
      "[torch.FloatTensor of size 10]\n",
      "\n",
      "\n",
      "    0     0     0  ...      0     0     0\n",
      "    0     0     0  ...      0     0     0\n",
      "    0     0     0  ...      0     0     0\n",
      "       ...          ⋱          ...       \n",
      "    0     0     0  ...      0     0     0\n",
      "    0     0     0  ...      0     0     0\n",
      "    0     0     0  ...      0     0     0\n",
      "[torch.FloatTensor of size 100x10]\n",
      "\n",
      "\n",
      " 0.7918  0.9985  0.8204  ...  -0.9282  0.0212 -0.7633\n",
      "-0.7491 -0.1510 -0.8267  ...  -0.3295 -1.4835 -0.5128\n",
      " 1.2434 -0.7731 -0.1065  ...   1.4181 -0.3265  1.4081\n",
      "          ...             ⋱             ...          \n",
      " 0.2823  0.1470  0.7189  ...   0.2914 -0.2188  1.2577\n",
      "-1.0273  1.3926 -0.0944  ...  -1.2277  0.1191 -0.3332\n",
      "-0.5671  0.3898  0.9868  ...   0.4164  0.6649 -0.0812\n",
      "[torch.FloatTensor of size 100x10]\n",
      "\n"
     ]
    }
   ],
   "source": [
    "t = torch.Tensor([[1, 2], [3, 4]])\n",
    "print(t)\n",
    "\n",
    "x = np.array([[1, 2], [3, 4]])\n",
    "t = torch.DoubleTensor(x)\n",
    "print(t)\n",
    "\n",
    "t = torch.arange(0, 10)\n",
    "print(t)\n",
    "\n",
    "t = torch.zeros(100, 10)\n",
    "print(t)\n",
    "\n",
    "t = torch.randn(100, 10)\n",
    "print(t)"
   ]
  },
  {
   "cell_type": "code",
   "execution_count": 3,
   "metadata": {},
   "outputs": [
    {
     "data": {
      "text/plain": [
       "torch.Size([100, 10])"
      ]
     },
     "execution_count": 3,
     "metadata": {},
     "output_type": "execute_result"
    }
   ],
   "source": [
    "t.size()"
   ]
  },
  {
   "cell_type": "code",
   "execution_count": 4,
   "metadata": {},
   "outputs": [
    {
     "name": "stdout",
     "output_type": "stream",
     "text": [
      "[[1. 2.]\n",
      " [3. 4.]]\n"
     ]
    }
   ],
   "source": [
    "t = torch.Tensor([[1, 2], [3, 4]])\n",
    "x = t.numpy()\n",
    "print(x)"
   ]
  },
  {
   "cell_type": "code",
   "execution_count": 5,
   "metadata": {},
   "outputs": [
    {
     "name": "stdout",
     "output_type": "stream",
     "text": [
      "3.0\n",
      "\n",
      " 1  2\n",
      " 4  5\n",
      "[torch.FloatTensor of size 2x2]\n",
      "\n",
      "\n",
      " 4\n",
      " 5\n",
      " 6\n",
      "[torch.FloatTensor of size 3]\n",
      "\n",
      "\n",
      "   1  100    3\n",
      "   4    5    6\n",
      "[torch.FloatTensor of size 2x3]\n",
      "\n",
      "\n",
      "   1  100    3\n",
      "   4  100    6\n",
      "[torch.FloatTensor of size 2x3]\n",
      "\n",
      "\n",
      "  1  20   3\n",
      "  4  20   6\n",
      "[torch.FloatTensor of size 2x3]\n",
      "\n"
     ]
    }
   ],
   "source": [
    "t = torch.Tensor([[1, 2, 3], [4, 5, 6]])\n",
    "print(t[0, 2])\n",
    "\n",
    "print(t[:, :2])\n",
    "\n",
    "print(t[t > 3])\n",
    "\n",
    "t[0, 1] = 100\n",
    "print(t)\n",
    "\n",
    "t[:, 1] = 100\n",
    "print(t)\n",
    "\n",
    "t[t > 10] = 20\n",
    "print(t)"
   ]
  },
  {
   "cell_type": "code",
   "execution_count": 6,
   "metadata": {},
   "outputs": [
    {
     "name": "stdout",
     "output_type": "stream",
     "text": [
      "\n",
      " 11\n",
      " 12\n",
      " 13\n",
      "[torch.FloatTensor of size 3]\n",
      "\n",
      "\n",
      " 1\n",
      " 4\n",
      " 9\n",
      "[torch.FloatTensor of size 3]\n",
      "\n",
      "\n",
      "  1\n",
      " -8\n",
      "-17\n",
      "[torch.FloatTensor of size 3]\n",
      "\n",
      "\n",
      "  8\n",
      "  9\n",
      " 10\n",
      "[torch.FloatTensor of size 3]\n",
      "\n",
      "\n",
      "   0    2    4\n",
      " 200  400  600\n",
      "[torch.FloatTensor of size 2x3]\n",
      "\n",
      "\n",
      "   1    3    5\n",
      " 101  202  303\n",
      "[torch.FloatTensor of size 2x3]\n",
      "\n",
      "\n",
      "   0    2    4\n",
      " 200  400  600\n",
      "[torch.FloatTensor of size 2x3]\n",
      "\n"
     ]
    }
   ],
   "source": [
    "v = torch.Tensor([1, 2, 3])\n",
    "w = torch.Tensor([0, 10, 20])\n",
    "m = torch.Tensor([[0, 1, 2], [100, 200, 300]])\n",
    "\n",
    "v2 = v + 10\n",
    "print(v2)\n",
    "\n",
    "v2 = v ** 2\n",
    "print(v2)\n",
    "\n",
    "z = v - w\n",
    "print(z)\n",
    "\n",
    "u = 2 * v - w / 10 + 6.0\n",
    "print(u)\n",
    "\n",
    "m2 = m * 2.0\n",
    "print(m2)\n",
    "\n",
    "m3 = m + v\n",
    "print(m3)\n",
    "\n",
    "m4 = m + m\n",
    "print(m4)"
   ]
  },
  {
   "cell_type": "code",
   "execution_count": 10,
   "metadata": {},
   "outputs": [
    {
     "name": "stdout",
     "output_type": "stream",
     "text": [
      "\n",
      " 2.8425  0.4955  2.2905  ...  -1.7681 -0.3260  3.4286\n",
      "-1.2603  3.8950  0.3253  ...   0.0631  0.3840 -0.6874\n",
      " 2.8040  0.4651  0.0843  ...  -0.9613  1.4998  5.6724\n",
      "          ...             ⋱             ...          \n",
      "-0.0675  2.8950 -0.9914  ...  -0.5478  0.6263 -1.5638\n",
      "-1.3723 -0.5585 -0.5812  ...   4.1105 -0.5155  0.5755\n",
      "-0.6160  3.3281  2.4866  ...   6.5627 -1.0886 -1.1269\n",
      "[torch.FloatTensor of size 100x10]\n",
      "\n",
      "-0.07649878241727129\n",
      "-0.07649878241727129\n",
      "\n",
      "-0.0422\n",
      "-0.1829\n",
      "-0.2208\n",
      "-0.0611\n",
      "-0.0278\n",
      "-0.1478\n",
      "-0.0944\n",
      "-0.0251\n",
      "-0.1177\n",
      " 0.1546\n",
      "[torch.FloatTensor of size 10]\n",
      "\n"
     ]
    }
   ],
   "source": [
    "X = torch.randn(100, 10)\n",
    "\n",
    "y = X * 2 + torch.abs(X)\n",
    "print(y)\n",
    "\n",
    "m = torch.mean(X)\n",
    "print(m)\n",
    "\n",
    "m = X.mean()\n",
    "print(m)\n",
    "\n",
    "m2 = X.mean(0)\n",
    "print(m2)"
   ]
  },
  {
   "cell_type": "code",
   "execution_count": null,
   "metadata": {},
   "outputs": [],
   "source": []
  },
  {
   "cell_type": "code",
   "execution_count": null,
   "metadata": {},
   "outputs": [],
   "source": []
  }
 ],
 "metadata": {
  "kernelspec": {
   "display_name": "Python 3",
   "language": "python",
   "name": "python3"
  },
  "language_info": {
   "codemirror_mode": {
    "name": "ipython",
    "version": 3
   },
   "file_extension": ".py",
   "mimetype": "text/x-python",
   "name": "python",
   "nbconvert_exporter": "python",
   "pygments_lexer": "ipython3",
   "version": "3.5.1"
  }
 },
 "nbformat": 4,
 "nbformat_minor": 2
}
