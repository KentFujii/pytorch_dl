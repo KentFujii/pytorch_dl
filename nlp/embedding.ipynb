{
 "cells": [
  {
   "cell_type": "code",
   "execution_count": 1,
   "metadata": {},
   "outputs": [
    {
     "data": {
      "text/plain": [
       "Variable containing:\n",
       "\n",
       "Columns 0 to 9 \n",
       " 0.4936  0.9751 -1.2408  0.7969  2.0318  0.3290 -0.4954  0.3017 -1.4600 -1.1081\n",
       "-0.3053  0.4362  0.3330 -0.0165 -0.3146 -0.6188 -0.4218  1.4014  1.1933 -0.5053\n",
       " 1.8934 -0.2782 -0.6303 -0.8602 -0.0736  0.4635  0.3333 -0.6235  1.6316 -0.3616\n",
       "-0.3053  0.4362  0.3330 -0.0165 -0.3146 -0.6188 -0.4218  1.4014  1.1933 -0.5053\n",
       "-0.7019  0.6823  0.2845 -0.7471  0.3798 -0.2664 -0.6066  2.1225 -1.7227 -0.3306\n",
       "\n",
       "Columns 10 to 19 \n",
       " 0.8701  1.3886 -0.2348 -1.1322 -0.7079  1.2112  0.2039 -1.9322 -2.5299 -0.5027\n",
       "-0.9195  0.0774  1.0599 -0.6573  0.6114  0.5290  0.7159 -0.7192 -1.1392 -1.3338\n",
       " 0.6593 -0.3040  2.4015 -1.0561  0.5597  0.6647 -1.3209  0.5143  0.2552  1.6096\n",
       "-0.9195  0.0774  1.0599 -0.6573  0.6114  0.5290  0.7159 -0.7192 -1.1392 -1.3338\n",
       "-0.0554  2.4297 -0.1677  0.3309 -0.3215  0.3372  0.2569  2.2509 -0.6907  1.2540\n",
       "[torch.FloatTensor of size 5x20]"
      ]
     },
     "execution_count": 1,
     "metadata": {},
     "output_type": "execute_result"
    }
   ],
   "source": [
    "import torch\n",
    "from torch import nn\n",
    "from torch.autograd import Variable as V\n",
    "\n",
    "\n",
    "# 埋め込み層\n",
    "# http://pytorch.org/docs/master/nn.html#torch.nn.Embedding\n",
    "# Embedding(num_embeddings, embedding_dim, padding_idx=None, max_norm=None, norm_type=2, scale_grad_by_freq=False, sparse=False, _weight=None)\n",
    "# num_embeddings: size of the dictionary of embeddings\n",
    "# embedding_dim: the size of each embedding vector\n",
    "# padding_idx: if given, pads the output with zeros whenever it\n",
    "# 全部で10000種類のトークンがあり、これを20次元ベクトルで表現したい場合\n",
    "emb = nn.Embedding(10000, 20, padding_idx=0)\n",
    "inp = V(torch.LongTensor([1, 2, 5, 2, 10]))\n",
    "out = emb(inp)\n",
    "# (5, 20)のマトリクス\n",
    "out"
   ]
  },
  {
   "cell_type": "code",
   "execution_count": null,
   "metadata": {},
   "outputs": [],
   "source": []
  }
 ],
 "metadata": {
  "kernelspec": {
   "display_name": "Python 3",
   "language": "python",
   "name": "python3"
  },
  "language_info": {
   "codemirror_mode": {
    "name": "ipython",
    "version": 3
   },
   "file_extension": ".py",
   "mimetype": "text/x-python",
   "name": "python",
   "nbconvert_exporter": "python",
   "pygments_lexer": "ipython3",
   "version": "3.5.1"
  }
 },
 "nbformat": 4,
 "nbformat_minor": 2
}
