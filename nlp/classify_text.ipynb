{
 "cells": [
  {
   "cell_type": "code",
   "execution_count": 1,
   "metadata": {},
   "outputs": [],
   "source": [
    "# http://ai.stanford.edu/~amaas/data/sentiment/aclImdb_v1.tar.gz\n",
    "import glob\n",
    "import pathlib\n",
    "import re\n",
    "\n",
    "\n",
    "remove_marks_regex = re.compile('[,\\.\\(\\)\\[\\]\\*:;]|<.*?>')\n",
    "shift_marks_regex = re.compile('([?!])')\n",
    "\n",
    "# 長い文字列をトークンidのリストに変換する関数\n",
    "def text2ids(text, vocab_dict):\n",
    "    text = remove_marks_regex.sub('', text)\n",
    "    text = shift_marks_regex.sub(r' \\1 ', text)\n",
    "    tokens = text.split()\n",
    "    return [vocab_dict.get(token, 0) for token in tokens]\n",
    "\n",
    "# idのリストをLongTensorに変換する関数\n",
    "def list2tensor(token_idxes, max_len=100, padding=True):\n",
    "    if len(token_idxes) > max_len:\n",
    "        token_idxes = token_idxes[:max_len]\n",
    "    n_tokens = len(token_idxes)\n",
    "    if padding:\n",
    "        token_idxes = token_idxes + [0] * (max_len - len(token_idxes))\n",
    "    return torch.LongTensor(token_idxes), n_tokens"
   ]
  },
  {
   "cell_type": "code",
   "execution_count": 2,
   "metadata": {},
   "outputs": [],
   "source": [
    "from torch.utils.data import Dataset\n",
    "\n",
    "\n",
    "# text2ids/list2tensorを使ってDatasetを作る\n",
    "class IMDBDataset(Dataset):\n",
    "    # テキストファイルのパスとラベルをまとめたtupleのリストを作る\n",
    "    def __init__(self, dir_path, train=True, max_len=100, padding=True):\n",
    "        self.max_len = max_len\n",
    "        self.padding = padding\n",
    "        path = pathlib.Path(dir_path)\n",
    "        vocab_path = path.joinpath('imdb.vocab')\n",
    "        # ボキャブラリファイルを読み込み、行ごとに分割\n",
    "        self.vocab_array = vocab_path.open().read().strip().splitlines()\n",
    "        # 単語をキーとし、値がIDのdictを作る\n",
    "        self.vocab_dict = dict((w, i+1) for (i, w) in enumerate(self.vocab_array))\n",
    "        if train:\n",
    "            target_path = path.joinpath('train')\n",
    "        else:\n",
    "            target_path = path.joinpath('test')\n",
    "        pos_files = sorted(glob.glob(str(target_path.joinpath('pos/*.txt'))))\n",
    "        neg_files = sorted(glob.glob(str(target_path.joinpath('neg/*.txt'))))\n",
    "        # posは1、negは0のlabelを付けて、(file_path, label)のtupleのリストを作成\n",
    "        self.labeled_files = list(zip([0]*len(neg_files), neg_files)) + list(zip([1]*len(pos_files), pos_files))\n",
    "        \n",
    "    @property\n",
    "    def vocab_size(self):\n",
    "        return len(self.vocab_array)\n",
    "    \n",
    "    def __len__(self):\n",
    "        return len(self.labeled_files)\n",
    "    \n",
    "    # ファイルを読み取ってTensorに変換する\n",
    "    def __getitem__(self, idx):\n",
    "        label, f = self.labeled_files[idx]\n",
    "        # ファイルのテキストデータを読み取って小文字に変換\n",
    "        data = open(f).read().lower()\n",
    "        # テキストデータをidのリストに変換\n",
    "        data = text2ids(data, self.vocab_dict)\n",
    "        data, n = list2tensor(data, self.max_len, self.padding)\n",
    "        return data, label, n"
   ]
  },
  {
   "cell_type": "code",
   "execution_count": 3,
   "metadata": {},
   "outputs": [],
   "source": [
    "from torch.utils.data import DataLoader\n",
    "\n",
    "\n",
    "train_data = IMDBDataset('./aclImdb/')\n",
    "test_data = IMDBDataset('./aclImdb/', train=False)\n",
    "# DataLoaderによって(batch_size, step_size)になる\n",
    "train_loader = DataLoader(train_data, batch_size=32, shuffle=True, num_workers=4)\n",
    "test_loader = DataLoader(test_data, batch_size=32, shuffle=False, num_workers=4)"
   ]
  },
  {
   "cell_type": "code",
   "execution_count": 4,
   "metadata": {},
   "outputs": [],
   "source": [
    "from torch import nn\n",
    "\n",
    "\n",
    "# 1. 入力Xをembeddingでベクトルの時系列に変換する\n",
    "# 2. ベクトルをRNNにいれる\n",
    "# 3. 最後に出力が一次元の線形層に入れて二値問題を解く\n",
    "class SequenceTaggingNet(nn.Module):\n",
    "    def __init__(self, num_embeddings, embedding_dim=50, hidden_size=50, num_layers=1, dropout=0.2):\n",
    "        super().__init__()\n",
    "        self.emb = nn.Embedding(num_embeddings, embedding_dim, padding_idx=0)\n",
    "        self.lstm = nn.LSTM(embedding_dim, hidden_size, num_layers, batch_first=True, dropout=dropout)\n",
    "        self.linear = nn.Linear(hidden_size, 1)\n",
    "        \n",
    "    def forward(self, x, h0=None, l=None):\n",
    "        # idをembeddingで多次元のベクトルに変換\n",
    "        # xは(batch_size, step_size)から(batch_size, step_size, embedding_dim)に変換される\n",
    "        x = self.emb(x)\n",
    "        # RNNにはLSTMを採用\n",
    "        # 初期状態h0とともにRNNにxを渡す\n",
    "        # pytorchのRNNは複数ステップの入力を受け取り、複数の出力と最後の内部状態を返す\n",
    "        # xは入力(batch_size, step_size, embedding_dim)から出力(batch_size, step_size, hidden_size)に変換される\n",
    "        # hは内部状態\n",
    "        x, h = self.lstm(x, h0)\n",
    "        # 最後のステップのみ取り出す、(batch_size, step_size, hidden_size)から(batch_size, hidden_size)へ\n",
    "        if l is not None:\n",
    "            # 入力のもとの長さがある場合はそれを使用する\n",
    "            x = x[list(range(len(x))), l-1, :]\n",
    "        else:\n",
    "            # なければ単純に最後を使用する\n",
    "            x = x[:, -1, :]\n",
    "        # 取り出した最後のステップを線形層にいれて2値分類する\n",
    "        # (batch_size, hidden_size)から(batch_size, 1)へ\n",
    "        x = self.linear(x)\n",
    "        # 余分な次元を削除\n",
    "        # 2クラス問題を識別できる形に変換する\n",
    "        # (batch_size, 1)から(batch_size)に変換される\n",
    "        x = x.squeeze()\n",
    "        return x"
   ]
  },
  {
   "cell_type": "code",
   "execution_count": 5,
   "metadata": {},
   "outputs": [],
   "source": [
    "def eval_net(net, data_loader):\n",
    "    net.eval()\n",
    "    ys = []\n",
    "    ypreds = []\n",
    "    # xは時系列トークンid、yはラベル、lは配列による時系列データの長さ\n",
    "    for x, y, l in data_loader:\n",
    "        x = V(x, volatile=True)\n",
    "        y = V(y, volatile=True)\n",
    "        y_pred = net(x, l=l)\n",
    "        y_pred = (y_pred > 0).long()\n",
    "        ys.append(y.data)\n",
    "        ypreds.append(y_pred.data)\n",
    "    ys = torch.cat(ys)\n",
    "    ypreds = torch.cat(ypreds)\n",
    "    acc = (ys == ypreds).float().sum() / len(ys)\n",
    "    return acc"
   ]
  },
  {
   "cell_type": "code",
   "execution_count": 6,
   "metadata": {},
   "outputs": [
    {
     "name": "stderr",
     "output_type": "stream",
     "text": [
      "100%|██████████| 782/782 [02:47<00:00,  4.67it/s]\n"
     ]
    },
    {
     "name": "stdout",
     "output_type": "stream",
     "text": [
      "0 0.6673651355154374 0.67408 0.65208\n"
     ]
    },
    {
     "name": "stderr",
     "output_type": "stream",
     "text": [
      "100%|██████████| 782/782 [03:05<00:00,  4.21it/s]\n"
     ]
    },
    {
     "name": "stdout",
     "output_type": "stream",
     "text": [
      "1 0.604958693351587 0.71148 0.68224\n"
     ]
    },
    {
     "name": "stderr",
     "output_type": "stream",
     "text": [
      "100%|██████████| 782/782 [03:05<00:00,  4.21it/s]\n"
     ]
    },
    {
     "name": "stdout",
     "output_type": "stream",
     "text": [
      "2 0.49925660111410236 0.81584 0.75004\n"
     ]
    },
    {
     "name": "stderr",
     "output_type": "stream",
     "text": [
      "100%|██████████| 782/782 [03:04<00:00,  4.24it/s]\n"
     ]
    },
    {
     "name": "stdout",
     "output_type": "stream",
     "text": [
      "3 0.4031894574003756 0.86912 0.77784\n"
     ]
    },
    {
     "name": "stderr",
     "output_type": "stream",
     "text": [
      "100%|██████████| 782/782 [03:06<00:00,  4.20it/s]\n"
     ]
    },
    {
     "name": "stdout",
     "output_type": "stream",
     "text": [
      "4 0.33357024249975636 0.89152 0.77808\n"
     ]
    },
    {
     "name": "stderr",
     "output_type": "stream",
     "text": [
      "100%|██████████| 782/782 [02:59<00:00,  4.36it/s]\n"
     ]
    },
    {
     "name": "stdout",
     "output_type": "stream",
     "text": [
      "5 0.275917008724016 0.9282 0.78996\n"
     ]
    },
    {
     "name": "stderr",
     "output_type": "stream",
     "text": [
      "100%|██████████| 782/782 [02:25<00:00,  5.39it/s]\n"
     ]
    },
    {
     "name": "stdout",
     "output_type": "stream",
     "text": [
      "6 0.22084687907925193 0.94496 0.79048\n"
     ]
    },
    {
     "name": "stderr",
     "output_type": "stream",
     "text": [
      "100%|██████████| 782/782 [03:04<00:00,  4.24it/s]\n"
     ]
    },
    {
     "name": "stdout",
     "output_type": "stream",
     "text": [
      "7 0.17621379246806626 0.96136 0.78904\n"
     ]
    },
    {
     "name": "stderr",
     "output_type": "stream",
     "text": [
      "100%|██████████| 782/782 [03:05<00:00,  4.21it/s]\n"
     ]
    },
    {
     "name": "stdout",
     "output_type": "stream",
     "text": [
      "8 0.13551636398448358 0.96004 0.78356\n"
     ]
    },
    {
     "name": "stderr",
     "output_type": "stream",
     "text": [
      "100%|██████████| 782/782 [03:11<00:00,  4.09it/s]\n"
     ]
    },
    {
     "name": "stdout",
     "output_type": "stream",
     "text": [
      "9 0.10801596829400914 0.9394 0.7538\n"
     ]
    }
   ],
   "source": [
    "import torch\n",
    "from torch.autograd import Variable as V\n",
    "from torch import optim\n",
    "from statistics import mean\n",
    "from tqdm import tqdm\n",
    "\n",
    "\n",
    "# embedding層には0を含めるために+1する\n",
    "# 2層のlstm\n",
    "net = SequenceTaggingNet(train_data.vocab_size+1, num_layers=2)\n",
    "opt = optim.Adam(net.parameters())\n",
    "# pros/consの二値分類のため損失関数はシグモイドを作用させたクロスエントロピー\n",
    "loss_f = nn.BCEWithLogitsLoss()\n",
    "for epoch in range(10):\n",
    "    losses = []\n",
    "    net.train()\n",
    "    for x, y, l in tqdm(train_loader):\n",
    "        x = V(x)\n",
    "        y = V(y.float()).float()\n",
    "        y_pred = net(x, l=l)\n",
    "        loss = loss_f(y_pred, y)\n",
    "        net.zero_grad()\n",
    "        loss.backward()\n",
    "        opt.step()\n",
    "        losses.append(loss.data[0])\n",
    "    train_acc = eval_net(net, train_loader)\n",
    "    val_acc = eval_net(net, test_loader)\n",
    "    print(epoch, mean(losses), train_acc, val_acc, flush=True)"
   ]
  },
  {
   "cell_type": "code",
   "execution_count": 7,
   "metadata": {},
   "outputs": [
    {
     "data": {
      "text/plain": [
       "(0.89876, 0.39608)"
      ]
     },
     "execution_count": 7,
     "metadata": {},
     "output_type": "execute_result"
    }
   ],
   "source": [
    "from sklearn.datasets import load_svmlight_file\n",
    "from sklearn.linear_model import LogisticRegression\n",
    "\n",
    "# BoWを使って文脈を加味しないロジスティック回帰モデルで二値分類してみる\n",
    "train_X, train_y = load_svmlight_file('./aclImdb/train/labeledBow.feat')\n",
    "test_X, test_y = load_svmlight_file('./aclImdb/test/labeledBow.feat', n_features=train_X.shape[1])\n",
    "model = LogisticRegression(C=0.1, max_iter=1000)\n",
    "model.fit(train_X, train_y)\n",
    "# 訓練データでは良い結果がでるがテストデータではうまくいかない\n",
    "model.score(train_X, train_y), model.score(test_X, test_y)"
   ]
  },
  {
   "cell_type": "code",
   "execution_count": 8,
   "metadata": {},
   "outputs": [],
   "source": [
    "from torch import nn\n",
    "\n",
    "\n",
    "class SequenceTaggingNet(nn.Module):\n",
    "    def __init__(self, num_embeddings, embedding_dim=50, hidden_size=50, num_layers=1, dropout=0.2):\n",
    "        super().__init__()\n",
    "        self.emb = nn.Embedding(num_embeddings, embedding_dim, padding_idx=0)\n",
    "        self.lstm = nn.LSTM(embedding_dim, hidden_size, num_layers, batch_first=True, dropout=dropout)\n",
    "        self.linear = nn.Linear(hidden_size, 1)\n",
    "        \n",
    "    def forward(self, x, h0=None, l=None):\n",
    "        x = self.emb(x)\n",
    "        # pack_padded_sequenceで時系列の長さ分だけRNNの計算をストップする\n",
    "        if l is not None:\n",
    "            x = nn.utils.rnn.pack_padded_sequence(x, l, batch_first=True)\n",
    "        x, h = self.lstm(x, h0)\n",
    "        # 最後のステップを取り出して線形層に入れる\n",
    "        if l is not None:\n",
    "            # 長さ情報がある場合は最後の層の内部状態のベクトルを直接利用できる\n",
    "            # PackedSequenceが入力されたRNNは、PackedSequenceとともに内部状態を返す\n",
    "            # PackedSequenceを使用してる場合は線形層への入力は、内部状態かpad_packed_sequenceされた出力をいれる\n",
    "            # LSTMは通常の内部状態の他にブロックセルの状態もあるので、内部状態のみを利用する\n",
    "            hidden_state, cell_state = h\n",
    "            x = hidden_state[-1]\n",
    "        else:\n",
    "            x = x[:, -1, :]\n",
    "        x = self.linear(x).squeeze()\n",
    "        return x"
   ]
  },
  {
   "cell_type": "code",
   "execution_count": 9,
   "metadata": {},
   "outputs": [],
   "source": [
    "def eval_net(net, data_loader):\n",
    "    net.eval()\n",
    "    ys = []\n",
    "    ypreds = []\n",
    "    for x, y, l in data_loader:\n",
    "        # PackedSequenceを利用するにはデータセットを長い順にソートする必要がある\n",
    "        l, sort_idx = torch.sort(l, descending=True)\n",
    "        x = V(x, volatile=True)\n",
    "        y = V(y, volatile=True)\n",
    "        y_pred = net(x, l=list(l))\n",
    "        y_pred = (y_pred > 0).long()\n",
    "        ys.append(y.data)\n",
    "        ypreds.append(y_pred.data)\n",
    "    ys = torch.cat(ys)\n",
    "    ypreds = torch.cat(ypreds)\n",
    "    acc = (ys == ypreds).float().sum() / len(ys)\n",
    "    return acc"
   ]
  },
  {
   "cell_type": "code",
   "execution_count": 10,
   "metadata": {},
   "outputs": [
    {
     "name": "stderr",
     "output_type": "stream",
     "text": [
      "100%|██████████| 782/782 [02:10<00:00,  5.98it/s]\n"
     ]
    },
    {
     "name": "stdout",
     "output_type": "stream",
     "text": [
      "0 0.6603945647282978 0.69896 0.67316\n"
     ]
    },
    {
     "name": "stderr",
     "output_type": "stream",
     "text": [
      "100%|██████████| 782/782 [02:57<00:00,  4.42it/s]\n"
     ]
    },
    {
     "name": "stdout",
     "output_type": "stream",
     "text": [
      "1 0.534956069782262 0.80076 0.73644\n"
     ]
    },
    {
     "name": "stderr",
     "output_type": "stream",
     "text": [
      "100%|██████████| 782/782 [03:05<00:00,  4.22it/s]\n"
     ]
    },
    {
     "name": "stdout",
     "output_type": "stream",
     "text": [
      "2 0.41398179077583813 0.85736 0.7708\n"
     ]
    },
    {
     "name": "stderr",
     "output_type": "stream",
     "text": [
      "100%|██████████| 782/782 [03:13<00:00,  4.03it/s]\n"
     ]
    },
    {
     "name": "stdout",
     "output_type": "stream",
     "text": [
      "3 0.33106636523705 0.89928 0.7858\n"
     ]
    },
    {
     "name": "stderr",
     "output_type": "stream",
     "text": [
      "100%|██████████| 782/782 [03:04<00:00,  4.24it/s]\n"
     ]
    },
    {
     "name": "stdout",
     "output_type": "stream",
     "text": [
      "4 0.26402586496547054 0.91712 0.77724\n"
     ]
    },
    {
     "name": "stderr",
     "output_type": "stream",
     "text": [
      "100%|██████████| 782/782 [02:44<00:00,  4.74it/s]\n"
     ]
    },
    {
     "name": "stdout",
     "output_type": "stream",
     "text": [
      "5 0.23396383725640263 0.89664 0.75052\n"
     ]
    },
    {
     "name": "stderr",
     "output_type": "stream",
     "text": [
      "100%|██████████| 782/782 [02:36<00:00,  5.01it/s]\n"
     ]
    },
    {
     "name": "stdout",
     "output_type": "stream",
     "text": [
      "6 0.18450373122730598 0.95284 0.78152\n"
     ]
    },
    {
     "name": "stderr",
     "output_type": "stream",
     "text": [
      "100%|██████████| 782/782 [02:36<00:00,  5.00it/s]\n"
     ]
    },
    {
     "name": "stdout",
     "output_type": "stream",
     "text": [
      "7 0.13930449300967251 0.95608 0.77756\n"
     ]
    },
    {
     "name": "stderr",
     "output_type": "stream",
     "text": [
      "100%|██████████| 782/782 [02:47<00:00,  4.68it/s]\n"
     ]
    },
    {
     "name": "stdout",
     "output_type": "stream",
     "text": [
      "8 0.11233496549003341 0.96652 0.78244\n"
     ]
    },
    {
     "name": "stderr",
     "output_type": "stream",
     "text": [
      "100%|██████████| 782/782 [03:02<00:00,  4.28it/s]\n"
     ]
    },
    {
     "name": "stdout",
     "output_type": "stream",
     "text": [
      "9 0.09667146474878063 0.97496 0.77328\n"
     ]
    }
   ],
   "source": [
    "import torch\n",
    "from torch.autograd import Variable as V\n",
    "from torch import optim\n",
    "from statistics import mean\n",
    "from tqdm import tqdm\n",
    "\n",
    "\n",
    "\n",
    "net = SequenceTaggingNet(train_data.vocab_size+1, num_layers=2)\n",
    "opt = optim.Adam(net.parameters())\n",
    "loss_f = nn.BCEWithLogitsLoss()\n",
    "for epoch in range(10):\n",
    "    losses = []\n",
    "    net.train()\n",
    "    for x, y, l in tqdm(train_loader):\n",
    "        # PackedSequenceを利用するにはデータセットを長さ順にソートする必要がある\n",
    "        l, sort_idx = torch.sort(l, descending=True)\n",
    "        x = x[sort_idx]\n",
    "        y = y[sort_idx]\n",
    "        x = V(x)\n",
    "        y = V(y.float())\n",
    "        y_pred = net(x, l=list(l))\n",
    "        loss = loss_f(y_pred, y)\n",
    "        net.zero_grad()\n",
    "        loss.backward()\n",
    "        opt.step()\n",
    "        losses.append(loss.data[0])\n",
    "    train_acc = eval_net(net, train_loader)\n",
    "    val_acc = eval_net(net, test_loader)\n",
    "    print(epoch, mean(losses), train_acc, val_acc, flush=True)"
   ]
  }
 ],
 "metadata": {
  "kernelspec": {
   "display_name": "Python 3",
   "language": "python",
   "name": "python3"
  },
  "language_info": {
   "codemirror_mode": {
    "name": "ipython",
    "version": 3
   },
   "file_extension": ".py",
   "mimetype": "text/x-python",
   "name": "python",
   "nbconvert_exporter": "python",
   "pygments_lexer": "ipython3",
   "version": "3.5.1"
  }
 },
 "nbformat": 4,
 "nbformat_minor": 2
}
