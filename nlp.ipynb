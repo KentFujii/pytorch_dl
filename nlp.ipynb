{
 "cells": [
  {
   "cell_type": "code",
   "execution_count": 1,
   "metadata": {},
   "outputs": [
    {
     "data": {
      "text/plain": [
       "Variable containing:\n",
       "\n",
       "Columns 0 to 9 \n",
       " 1.3466 -0.1936  0.2819  0.0078  0.3915 -0.3868 -0.3683  2.5334 -1.7047  2.2971\n",
       "-0.1275 -0.3767 -0.2802  0.4301 -2.2578 -1.9774  0.4781  0.4948 -2.6422 -0.3606\n",
       "-1.0050 -0.5673  0.2331 -1.4810 -0.0858  0.3819 -0.3272 -0.3714  0.8162  0.5598\n",
       "-0.1275 -0.3767 -0.2802  0.4301 -2.2578 -1.9774  0.4781  0.4948 -2.6422 -0.3606\n",
       "-1.6596 -0.7401  0.0841  0.4323 -0.2487 -0.7484  0.9155  0.7197 -0.3392  1.0007\n",
       "\n",
       "Columns 10 to 19 \n",
       "-0.8721 -0.3254  0.5644  1.7397 -0.8100  2.4798 -0.2664  0.1063  0.6808  0.3436\n",
       " 0.5718 -1.6982  0.9012 -0.2116  0.1281  0.0507 -0.9467 -0.1902 -1.1626  0.2493\n",
       " 0.6968  0.9578 -1.1826 -1.0494 -0.8746 -1.3724 -1.6439  0.9874 -0.5436 -0.2417\n",
       " 0.5718 -1.6982  0.9012 -0.2116  0.1281  0.0507 -0.9467 -0.1902 -1.1626  0.2493\n",
       "-1.5601  0.3365  1.2847 -0.1421  0.4739  0.7873 -1.5906  1.0184 -1.0457 -0.2532\n",
       "[torch.FloatTensor of size 5x20]"
      ]
     },
     "execution_count": 1,
     "metadata": {},
     "output_type": "execute_result"
    }
   ],
   "source": [
    "import torch\n",
    "from torch import nn\n",
    "from torch.autograd import Variable as V\n",
    "\n",
    "\n",
    "emb = nn.Embedding(10000, 20, padding_idx=0)\n",
    "inp = V(torch.LongTensor([1, 2, 5, 2, 10]))\n",
    "out = emb(inp)\n",
    "out"
   ]
  },
  {
   "cell_type": "code",
   "execution_count": 2,
   "metadata": {},
   "outputs": [],
   "source": [
    "# http://ai.stanford.edu/~amaas/data/sentiment/aclImdb_v1.tar.gz\n",
    "import glob\n",
    "import pathlib\n",
    "import re\n",
    "\n",
    "\n",
    "remove_marks_regex = re.compile('[,\\.\\(\\)\\[\\]\\*:;]|<.*?>')\n",
    "shift_marks_regex = re.compile('([?!])')\n",
    "\n",
    "def text2ids(text, vacab_dict):\n",
    "    text = remove_marks_regex.sub('', text)\n",
    "    text = shift_marks_regex.sub(r' \\1 ', text)\n",
    "    tokens = text.split()\n",
    "    return [vacab_dict.get(token, 0) for token in tokens]\n",
    "\n",
    "def list2tensor(token_idxes, max_len=100, padding=True):\n",
    "    if len(token_idxes) > max_len:\n",
    "        token_idxes = token_idxes[:max_len]\n",
    "    n_tokens = len(token_idxes)\n",
    "    if padding:\n",
    "        token_idxes = token_idxes + [0] * (max_len - len(token_idxes))\n",
    "    return torch.LongTensor(token_idxes), n_tokens"
   ]
  },
  {
   "cell_type": "code",
   "execution_count": 3,
   "metadata": {},
   "outputs": [],
   "source": [
    "from torch.utils.data import Dataset\n",
    "\n",
    "\n",
    "class IMDBDataset(Dataset):\n",
    "    def __init__(self, dir_path, train=True, max_len=100, padding=True):\n",
    "        self.max_len = max_len\n",
    "        self.padding = padding\n",
    "        path = pathlib.Path(dir_path)\n",
    "        vocab_path = path.joinpath('imdb.vocab')\n",
    "        self.vocab_array = vocab_path.open().read().strip().splitlines()\n",
    "        self.vocab_dict = dict((w, i+1) for (i, w) in enumerate(self.vocab_array))\n",
    "        if train:\n",
    "            target_path = path.joinpath('train')\n",
    "        else:\n",
    "            target_path = path.joinpath('test')\n",
    "        pos_files = sorted(glob.glob(str(target_path.joinpath('pos/*.txt'))))\n",
    "        neg_files = sorted(glob.glob(str(target_path.joinpath('neg/*.txt'))))\n",
    "        self.labeled_files = list(zip([0]*len(neg_files), neg_files)) + list(zip([1]*len(pos_files), pos_files))\n",
    "        \n",
    "    @property\n",
    "    def vocab_size(self):\n",
    "        return len(self.vocab_array)\n",
    "    \n",
    "    def __len__(self):\n",
    "        return len(self.labeled_files)\n",
    "    \n",
    "    def __getitem__(self, idx):\n",
    "        label, f = self.labeled_files[idx]\n",
    "        data = open(f).read().lower()\n",
    "        data = text2ids(data, self.vocab_dict)\n",
    "        data, n = list2tensor(data, self.max_len, self.padding)\n",
    "        return data, label, n"
   ]
  },
  {
   "cell_type": "code",
   "execution_count": 4,
   "metadata": {},
   "outputs": [],
   "source": [
    "from torch.utils.data import DataLoader\n",
    "\n",
    "\n",
    "train_data = IMDBDataset('./aclImdb/')\n",
    "test_data = IMDBDataset('./aclImdb/', train=False)\n",
    "train_loader = DataLoader(train_data, batch_size=32, shuffle=True, num_workers=4)\n",
    "test_loader = DataLoader(test_data, batch_size=32, shuffle=False, num_workers=4)"
   ]
  },
  {
   "cell_type": "code",
   "execution_count": 5,
   "metadata": {},
   "outputs": [],
   "source": [
    "class SequenceTaggingNet(nn.Module):\n",
    "    def __init__(self, num_embeddings, embedding_dim=50, hidden_size=50, num_layers=1, dropout=0.2):\n",
    "        super().__init__()\n",
    "        self.emb = nn.Embedding(num_embeddings, embedding_dim, padding_idx=0)\n",
    "        self.lstm = nn.LSTM(embedding_dim, hidden_size, num_layers, batch_first=True, dropout=dropout)\n",
    "        self.linear = nn.Linear(hidden_size, 1)\n",
    "        \n",
    "    def forward(self, x, h0=None, l=None):\n",
    "        x = self.emb(x)\n",
    "        x, h = self.lstm(x, h0)\n",
    "        if l is not None:\n",
    "            x = x[list(range(len(x))), l-1, :]\n",
    "        else:\n",
    "            x = x[:, -1, :]\n",
    "        x = self.linear(x)\n",
    "        x = x.squeeze()\n",
    "        return x"
   ]
  },
  {
   "cell_type": "code",
   "execution_count": 6,
   "metadata": {},
   "outputs": [],
   "source": [
    "def eval_net(net, data_loader):\n",
    "    net.eval()\n",
    "    ys = []\n",
    "    ypreds = []\n",
    "    for x, y, l in data_loader:\n",
    "        x = V(x, volatile=True)\n",
    "        y = V(y, volatile=True)\n",
    "        y_pred = net(x, l=l)\n",
    "        y_pred = (y_pred > 0).long()\n",
    "        ys.append(y.data)\n",
    "        ypreds.append(y_pred.data)\n",
    "    ys = torch.cat(ys)\n",
    "    ypreds = torch.cat(ypreds)\n",
    "    acc = (ys == ypreds).float().sum() / len(ys)\n",
    "    return acc"
   ]
  },
  {
   "cell_type": "code",
   "execution_count": null,
   "metadata": {},
   "outputs": [
    {
     "name": "stdout",
     "output_type": "stream",
     "text": [
      "0 0.6599768895627288 0.7222 0.6944\n",
      "1 0.5338538296311103 0.79404 0.7454\n",
      "2 0.4424481616948572 0.83256 0.76496\n",
      "3 0.3784253418902912 0.86392 0.77488\n",
      "4 0.31670292347783935 0.89372 0.78396\n",
      "5 0.26823607367723035 0.91796 0.7894\n"
     ]
    }
   ],
   "source": [
    "from statistics import mean\n",
    "from torch import optim\n",
    "\n",
    "\n",
    "net = SequenceTaggingNet(train_data.vocab_size+1, num_layers=2)\n",
    "opt = optim.Adam(net.parameters())\n",
    "loss_f = nn.BCEWithLogitsLoss()\n",
    "for epoch in range(10):\n",
    "    losses = []\n",
    "    net.train()\n",
    "    for x, y, l in train_loader:\n",
    "        x = V(x)\n",
    "        y = V(y.float()).float()\n",
    "        y_pred = net(x, l=l)\n",
    "        loss = loss_f(y_pred, y)\n",
    "        net.zero_grad()\n",
    "        loss.backward()\n",
    "        opt.step()\n",
    "        losses.append(loss.data[0])\n",
    "    train_acc = eval_net(net, train_loader)\n",
    "    val_acc = eval_net(net, test_loader)\n",
    "    print(epoch, mean(losses), train_acc, val_acc)"
   ]
  },
  {
   "cell_type": "code",
   "execution_count": null,
   "metadata": {},
   "outputs": [],
   "source": [
    "from sklearn.datasets import load_svmlight_file\n",
    "from sklearn.linear_model import LogisticRegression\n",
    "\n",
    "\n",
    "train_X, train_y = load_svmlight_file('./aclImdb/train/labeledBow.feat')\n",
    "test_X, test_y = load_svmlight_file('./aclImdb/test/labeledBow.feat', n_features=train_X.shape[1])\n",
    "model = LogisticRegression(C=0.1, max_iter=1000)\n",
    "model.fit(train_X, train_y)\n",
    "model.score(train_X, train_y), model.score(test_X, test_y)"
   ]
  },
  {
   "cell_type": "code",
   "execution_count": null,
   "metadata": {},
   "outputs": [],
   "source": [
    "class SequenceTaggingNet(nn.Module):\n",
    "    def __init__(self, num_embeddings, embedding_dim=50, hidden_size=50, num_layers=1, dropout=0.2):\n",
    "        super().__init__()\n",
    "        self.emb = nn.Embedding(num_embeddings, embedding_dim, padding_idx=0)\n",
    "        self.lstm = nn.LSTM(embedding_dim, hidden_size, num_layers, batch_first=True, dropout=dropout)\n",
    "        self.linear = nn.Linear(hidden_size, 1)\n",
    "        \n",
    "    def forward(self, x, h0=None, l=None):\n",
    "        x = self.emb(x)\n",
    "        if l is not None:\n",
    "            x = nn.utils.rnn.pack_padded_sequence(x, l, batch_first=True)\n",
    "        x, h = self.lstm(x, h0)\n",
    "        if l is not None:\n",
    "            hidden_state, cell_state = h\n",
    "            x = hidden_state[-1]\n",
    "        else:\n",
    "            x = x[:, -1, :]\n",
    "        x = self.linear(x).squeeze()\n",
    "        return x"
   ]
  },
  {
   "cell_type": "code",
   "execution_count": null,
   "metadata": {},
   "outputs": [],
   "source": [
    "for epoch in range(10):\n",
    "    losses = []\n",
    "    net.train()\n",
    "    for x, y, l in train_loader:\n",
    "        l, sort_idx = torch.sort(l, descending=True)\n",
    "        x = x[sort_idx]\n",
    "        y = y[sort_idx]\n",
    "        x = V(x)\n",
    "        y = V(y.float())\n",
    "        y_pred = net(x, l=list(l))\n",
    "        loss = loss_f(y_pred, y)\n",
    "        net.zero_grad()\n",
    "        loss.backward()\n",
    "        opt.step()\n",
    "        losses.append(loss.data[0])\n",
    "    train_acc = eval_net(net, train_loader)\n",
    "    val_acc = eval_net(net, test_loader)\n",
    "    print(epoch, mean(losses), train_acc, val_acc)"
   ]
  },
  {
   "cell_type": "code",
   "execution_count": null,
   "metadata": {},
   "outputs": [],
   "source": [
    "import string\n",
    "\n",
    "\n",
    "all_chars = string.printable\n",
    "vocab_size = len(all_chars)\n",
    "vocab_dic = dict(c, i) for (i, c) in enumerate(all_chars)\n",
    "\n",
    "def str2ints(s, vocab_dict):\n",
    "    return [vocab_dict[c] for c in s]\n",
    "\n",
    "def ints2str(x, vocab_array):\n",
    "    return \"\".join([vocab_array[i] for i in x])"
   ]
  },
  {
   "cell_type": "code",
   "execution_count": null,
   "metadata": {},
   "outputs": [],
   "source": [
    "# curl https://raw.githubusercontent.com/karpathy/char-rnn/master/data/tinyshakespeare/input.txt > tinyshakespeare.txt\n",
    "\n",
    "\n",
    "class ShakespeareDataset(Dataset):\n",
    "    def __init__(self, path, chunk_size=200):\n",
    "        data = str2ints(open(path).read().strip(), vocab_dict)\n",
    "        data = torch.LongTensor(data).split(chunk_size)\n",
    "        if len(data[-1]) < chunk_size:\n",
    "            data = data[:-1]\n",
    "        self.data = data\n",
    "        self.n_chunks = len(self.data)\n",
    "        \n",
    "    def __len__(self):\n",
    "        return self.n_chunks\n",
    "    \n",
    "    def __getitem__(self, idx):\n",
    "        return self.data[idx]"
   ]
  }
 ],
 "metadata": {
  "kernelspec": {
   "display_name": "Python 3",
   "language": "python",
   "name": "python3"
  },
  "language_info": {
   "codemirror_mode": {
    "name": "ipython",
    "version": 3
   },
   "file_extension": ".py",
   "mimetype": "text/x-python",
   "name": "python",
   "nbconvert_exporter": "python",
   "pygments_lexer": "ipython3",
   "version": "3.5.1"
  }
 },
 "nbformat": 4,
 "nbformat_minor": 2
}
