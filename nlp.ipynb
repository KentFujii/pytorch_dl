{
 "cells": [
  {
   "cell_type": "code",
   "execution_count": 1,
   "metadata": {},
   "outputs": [
    {
     "data": {
      "text/plain": [
       "Variable containing:\n",
       "\n",
       "Columns 0 to 9 \n",
       "-1.3856 -0.9772  0.9081 -0.7059  0.8401 -0.7006  0.1452  1.7527 -1.5233  0.5608\n",
       " 0.1024  1.2889 -0.1652  2.4374  0.6860 -0.8651 -0.0569 -0.3290 -0.3376  0.6104\n",
       "-0.0752 -0.9036  1.6446  0.0394  1.7200  0.8020  0.8306 -0.4192  0.5159  0.2212\n",
       " 0.1024  1.2889 -0.1652  2.4374  0.6860 -0.8651 -0.0569 -0.3290 -0.3376  0.6104\n",
       "-0.0380  0.3274 -1.9475  0.7265  0.3106 -0.9905  0.5445 -0.3918 -0.7089  0.4364\n",
       "\n",
       "Columns 10 to 19 \n",
       "-0.1867  0.1660  1.3522  1.0327  0.1075  0.9357 -1.2392 -0.0001  1.1365 -0.3622\n",
       " 0.8614  0.5901  2.0195 -0.5507  0.3969 -0.0277  2.0770  1.6329 -0.3054  0.5680\n",
       "-0.9626 -0.4658  0.0678 -1.9309  0.1012  1.0150  2.1796 -1.4209 -0.3320  0.2843\n",
       " 0.8614  0.5901  2.0195 -0.5507  0.3969 -0.0277  2.0770  1.6329 -0.3054  0.5680\n",
       " 0.3169 -2.0373  1.1344  0.8220  0.4814 -2.2129  0.0020  0.6707 -1.1446  0.8665\n",
       "[torch.FloatTensor of size 5x20]"
      ]
     },
     "execution_count": 1,
     "metadata": {},
     "output_type": "execute_result"
    }
   ],
   "source": [
    "import torch\n",
    "from torch import nn\n",
    "from torch.autograd import Variable as V\n",
    "\n",
    "\n",
    "emb = nn.Embedding(10000, 20, padding_idx=0)\n",
    "inp = V(torch.LongTensor([1, 2, 5, 2, 10]))\n",
    "out = emb(inp)\n",
    "out"
   ]
  },
  {
   "cell_type": "code",
   "execution_count": 2,
   "metadata": {},
   "outputs": [],
   "source": [
    "# http://ai.stanford.edu/~amaas/data/sentiment/aclImdb_v1.tar.gz\n",
    "import glob\n",
    "import pathlib\n",
    "import re\n",
    "\n",
    "\n",
    "remove_marks_regex = re.compile('[,\\.\\(\\)\\[\\]\\*:;]|<.*?>')\n",
    "shift_marks_regex = re.compile('([?!])')\n",
    "\n",
    "def text2ids(text, vacab_dict):\n",
    "    text = remove_marks_regex.sub('', text)\n",
    "    text = shift_marks_regex.sub(r' \\1 ', text)\n",
    "    tokens = text.split()\n",
    "    return [vacab_dict.get(token, 0) for token in tokens]\n",
    "\n",
    "def list2tensor(token_idxes, max_len=100, padding=True):\n",
    "    if len(token_idxes) > max_len:\n",
    "        token_idxes = token_idxes[:max_len]\n",
    "    n_tokens = len(token_idxes)\n",
    "    if padding:\n",
    "        token_idxes = token_idxes + [0] * (max_len - len(token_idxes))\n",
    "    return torch.LongTensor(token_idxes), n_tokens"
   ]
  },
  {
   "cell_type": "code",
   "execution_count": 3,
   "metadata": {},
   "outputs": [],
   "source": [
    "from torch.utils.data import Dataset\n",
    "\n",
    "\n",
    "class IMDBDataset(Dataset):\n",
    "    def __init__(self, dir_path, train=True, max_len=100, padding=True):\n",
    "        self.max_len = max_len\n",
    "        self.padding = padding\n",
    "        path = pathlib.Path(dir_path)\n",
    "        vocab_path = path.joinpath('imdb.vocab')\n",
    "        self.vocab_array = vocab_path.open().read().strip().splitlines()\n",
    "        self.vocab_dict = dict((w, i+1) for (i, w) in enumerate(self.vocab_array))\n",
    "        if train:\n",
    "            target_path = path.joinpath('train')\n",
    "        else:\n",
    "            target_path = path.joinpath('test')\n",
    "        pos_files = sorted(glob.glob(str(target_path.joinpath('pos/*.txt'))))\n",
    "        neg_files = sorted(glob.glob(str(target_path.joinpath('neg/*.txt'))))\n",
    "        self.labeled_files = list(zip([0]*len(neg_files), neg_files)) + list(zip([1]*len(pos_files), pos_files))\n",
    "        \n",
    "    @property\n",
    "    def vocab_size(self):\n",
    "        return len(self.vocab_array)\n",
    "    \n",
    "    def __len__(self):\n",
    "        return len(self.labeled_files)\n",
    "    \n",
    "    def __getitem__(self, idx):\n",
    "        label, f = self.labeled_files[idx]\n",
    "        data = open(f).read().lower()\n",
    "        data = text2ids(data, self.vocab_dict)\n",
    "        data, n = list2tensor(data, self.max_len, self.padding)\n",
    "        return data, label, n"
   ]
  },
  {
   "cell_type": "code",
   "execution_count": 4,
   "metadata": {},
   "outputs": [],
   "source": [
    "from torch.utils.data import DataLoader\n",
    "\n",
    "\n",
    "train_data = IMDBDataset('./aclImdb/')\n",
    "test_data = IMDBDataset('./aclImdb/', train=False)\n",
    "train_loader = DataLoader(train_data, batch_size=32, shuffle=True, num_workers=4)\n",
    "test_loader = DataLoader(test_data, batch_size=32, shuffle=False, num_workers=4)"
   ]
  },
  {
   "cell_type": "code",
   "execution_count": 5,
   "metadata": {},
   "outputs": [],
   "source": [
    "class SequenceTaggingNet(nn.Module):\n",
    "    def __init__(self, num_embeddings, embedding_dim=50, hidden_size=50, num_layers=1, dropout=0.2):\n",
    "        super().__init__()\n",
    "        self.emb = nn.Embedding(num_embeddings, embedding_dim, padding_idx=0)\n",
    "        self.lstm = nn.LSTM(embedding_dim, hidden_size, num_layers, batch_first=True, dropout=dropout)\n",
    "        self.linear = nn.Linear(hidden_size, 1)\n",
    "        \n",
    "    def forward(self, x, h0=None, l=None):\n",
    "        x = self.emb(x)\n",
    "        x, h = self.lstm(x, h0)\n",
    "        if l is not None:\n",
    "            x = x[list(range(len(x))), l-1, :]\n",
    "        else:\n",
    "            x = x[:, -1, :]\n",
    "        x = self.linear(x)\n",
    "        x = x.squeeze()\n",
    "        return x"
   ]
  },
  {
   "cell_type": "code",
   "execution_count": 6,
   "metadata": {},
   "outputs": [],
   "source": [
    "def eval_net(net, data_loader):\n",
    "    net.eval()\n",
    "    ys = []\n",
    "    ypreds = []\n",
    "    for x, y, l in data_loader:\n",
    "        x = V(x, volatile=True)\n",
    "        y = V(y, volatile=True)\n",
    "        y_pred = net(x, l=l)\n",
    "        y_pred = (y_pred > 0).long()\n",
    "        ys.append(y.data)\n",
    "        ypreds.append(y_pred.data)\n",
    "    ys = torch.cat(ys)\n",
    "    ypreds = torch.cat(ypreds)\n",
    "    acc = (ys == ypreds).float().sum() / len(ys)\n",
    "    return acc"
   ]
  },
  {
   "cell_type": "code",
   "execution_count": 7,
   "metadata": {},
   "outputs": [
    {
     "name": "stdout",
     "output_type": "stream",
     "text": [
      "0 0.6651672329896551 0.6784 0.65876\n",
      "1 0.6114181152466313 0.75264 0.70544\n",
      "2 0.47725831536228397 0.85144 0.77424\n",
      "3 0.3472488750620266 0.89936 0.79236\n",
      "4 0.26870434299644913 0.9316 0.79744\n",
      "5 0.20496220736647658 0.95676 0.79912\n",
      "6 0.1490502182889701 0.97184 0.78936\n",
      "7 0.10384575003648505 0.98588 0.7876\n",
      "8 0.07579018946086792 0.99024 0.78312\n",
      "9 0.05390472393399557 0.99332 0.78392\n"
     ]
    }
   ],
   "source": [
    "from statistics import mean\n",
    "from torch import optim\n",
    "\n",
    "\n",
    "net = SequenceTaggingNet(train_data.vocab_size+1, num_layers=2)\n",
    "opt = optim.Adam(net.parameters())\n",
    "loss_f = nn.BCEWithLogitsLoss()\n",
    "for epoch in range(10):\n",
    "    losses = []\n",
    "    net.train()\n",
    "    for x, y, l in train_loader:\n",
    "        x = V(x)\n",
    "        y = V(y.float()).float()\n",
    "        y_pred = net(x, l=l)\n",
    "        loss = loss_f(y_pred, y)\n",
    "        net.zero_grad()\n",
    "        loss.backward()\n",
    "        opt.step()\n",
    "        losses.append(loss.data[0])\n",
    "    train_acc = eval_net(net, train_loader)\n",
    "    val_acc = eval_net(net, test_loader)\n",
    "    print(epoch, mean(losses), train_acc, val_acc)"
   ]
  },
  {
   "cell_type": "code",
   "execution_count": null,
   "metadata": {},
   "outputs": [],
   "source": []
  },
  {
   "cell_type": "code",
   "execution_count": null,
   "metadata": {},
   "outputs": [],
   "source": []
  }
 ],
 "metadata": {
  "kernelspec": {
   "display_name": "Python 3",
   "language": "python",
   "name": "python3"
  },
  "language_info": {
   "codemirror_mode": {
    "name": "ipython",
    "version": 3
   },
   "file_extension": ".py",
   "mimetype": "text/x-python",
   "name": "python",
   "nbconvert_exporter": "python",
   "pygments_lexer": "ipython3",
   "version": "3.5.1"
  }
 },
 "nbformat": 4,
 "nbformat_minor": 2
}
