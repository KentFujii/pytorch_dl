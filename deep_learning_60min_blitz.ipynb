{
 "cells": [
  {
   "cell_type": "code",
   "execution_count": 1,
   "metadata": {},
   "outputs": [],
   "source": [
    "import torch"
   ]
  },
  {
   "cell_type": "code",
   "execution_count": 2,
   "metadata": {},
   "outputs": [
    {
     "name": "stdout",
     "output_type": "stream",
     "text": [
      "\n",
      "-2.3593e-24  4.5558e-41 -2.3593e-24\n",
      " 4.5558e-41  0.0000e+00  2.9427e-44\n",
      " 0.0000e+00  0.0000e+00  0.0000e+00\n",
      " 0.0000e+00 -2.9022e+26  2.6955e+23\n",
      " 0.0000e+00  0.0000e+00  0.0000e+00\n",
      "[torch.FloatTensor of size 5x3]\n",
      "\n",
      "\n",
      " 0.6070  0.0003  0.9843\n",
      " 0.4240  0.5998  0.7377\n",
      " 0.3297  0.0812  0.0664\n",
      " 0.8298  0.1349  0.5677\n",
      " 0.0182  0.3394  0.2584\n",
      "[torch.FloatTensor of size 5x3]\n",
      "\n",
      "torch.Size([5, 3])\n"
     ]
    }
   ],
   "source": [
    "# 行列を作る\n",
    "\n",
    "# (5, 3)のゼロ行列\n",
    "x = torch.Tensor(5, 3)\n",
    "print(x)\n",
    "\n",
    "# 中身がランダムな(5, 3)行列\n",
    "x = torch.rand(5, 3)\n",
    "print(x)\n",
    "\n",
    "# 行列のサイズを調べる\n",
    "print(x.size())"
   ]
  },
  {
   "cell_type": "code",
   "execution_count": 3,
   "metadata": {},
   "outputs": [
    {
     "name": "stdout",
     "output_type": "stream",
     "text": [
      "\n",
      " 1.4346  0.8857  1.2241\n",
      " 1.0116  1.3135  1.1323\n",
      " 1.0630  0.9790  0.4884\n",
      " 0.8323  0.8571  0.9381\n",
      " 0.3362  0.9806  0.7071\n",
      "[torch.FloatTensor of size 5x3]\n",
      "\n",
      "\n",
      " 1.4346  0.8857  1.2241\n",
      " 1.0116  1.3135  1.1323\n",
      " 1.0630  0.9790  0.4884\n",
      " 0.8323  0.8571  0.9381\n",
      " 0.3362  0.9806  0.7071\n",
      "[torch.FloatTensor of size 5x3]\n",
      "\n",
      "\n",
      " 1.4346  0.8857  1.2241\n",
      " 1.0116  1.3135  1.1323\n",
      " 1.0630  0.9790  0.4884\n",
      " 0.8323  0.8571  0.9381\n",
      " 0.3362  0.9806  0.7071\n",
      "[torch.FloatTensor of size 5x3]\n",
      "\n",
      "\n",
      " 1.4346  0.8857  1.2241\n",
      " 1.0116  1.3135  1.1323\n",
      " 1.0630  0.9790  0.4884\n",
      " 0.8323  0.8571  0.9381\n",
      " 0.3362  0.9806  0.7071\n",
      "[torch.FloatTensor of size 5x3]\n",
      "\n"
     ]
    }
   ],
   "source": [
    "# 行列演算をする\n",
    "# 下記は全て加算の例\n",
    "\n",
    "y = torch.rand(5, 3)\n",
    "\n",
    "print(x + y)\n",
    "\n",
    "print(torch.add(x, y))\n",
    "\n",
    "result = torch.Tensor(5, 3)\n",
    "torch.add(x, y, out=result)\n",
    "print(result)\n",
    "\n",
    "y.add_(x)\n",
    "print(y)"
   ]
  },
  {
   "cell_type": "code",
   "execution_count": 4,
   "metadata": {},
   "outputs": [
    {
     "name": "stdout",
     "output_type": "stream",
     "text": [
      "\n",
      " 0.6070  0.0003  0.9843\n",
      " 0.4240  0.5998  0.7377\n",
      " 0.3297  0.0812  0.0664\n",
      " 0.8298  0.1349  0.5677\n",
      " 0.0182  0.3394  0.2584\n",
      "[torch.FloatTensor of size 5x3]\n",
      "\n",
      "\n",
      " 0.0003\n",
      " 0.5998\n",
      " 0.0812\n",
      " 0.1349\n",
      " 0.3394\n",
      "[torch.FloatTensor of size 5]\n",
      "\n",
      "\n",
      " 0.5047 -0.6150  2.0517  0.3111\n",
      "-0.1924 -1.8970 -0.5967 -0.0342\n",
      "-0.2990 -0.5391 -0.5829  0.4809\n",
      " 1.0945  2.0308  1.2156  0.9228\n",
      "[torch.FloatTensor of size 4x4]\n",
      "\n",
      "\n",
      " 0.5047\n",
      "-0.6150\n",
      " 2.0517\n",
      " 0.3111\n",
      "-0.1924\n",
      "-1.8970\n",
      "-0.5967\n",
      "-0.0342\n",
      "-0.2990\n",
      "-0.5391\n",
      "-0.5829\n",
      " 0.4809\n",
      " 1.0945\n",
      " 2.0308\n",
      " 1.2156\n",
      " 0.9228\n",
      "[torch.FloatTensor of size 16]\n",
      "\n",
      "\n",
      " 0.5047 -0.6150  2.0517  0.3111 -0.1924 -1.8970 -0.5967 -0.0342\n",
      "-0.2990 -0.5391 -0.5829  0.4809  1.0945  2.0308  1.2156  0.9228\n",
      "[torch.FloatTensor of size 2x8]\n",
      "\n",
      "torch.Size([4, 4]) torch.Size([16]) torch.Size([2, 8])\n"
     ]
    }
   ],
   "source": [
    "# 行列操作\n",
    "\n",
    "# numpyのように行列要素を選択することもできる\n",
    "print(x)\n",
    "print(x[:, 1])\n",
    "\n",
    "# view関数で操作することもできる\n",
    "x = torch.randn(4, 4)\n",
    "y = x.view(16)\n",
    "z = x.view(-1, 8)  # the size -1 is inferred from other dimensions\n",
    "print(x)\n",
    "print(y)\n",
    "print(z)\n",
    "print(x.size(), y.size(), z.size())"
   ]
  },
  {
   "cell_type": "code",
   "execution_count": 5,
   "metadata": {},
   "outputs": [
    {
     "name": "stdout",
     "output_type": "stream",
     "text": [
      "\n",
      " 1\n",
      " 1\n",
      " 1\n",
      " 1\n",
      " 1\n",
      "[torch.FloatTensor of size 5]\n",
      "\n"
     ]
    }
   ],
   "source": [
    "# 要素が1の配列を生成する\n",
    "\n",
    "a = torch.ones(5)\n",
    "print(a)"
   ]
  },
  {
   "cell_type": "code",
   "execution_count": 6,
   "metadata": {},
   "outputs": [
    {
     "name": "stdout",
     "output_type": "stream",
     "text": [
      "[2. 2. 2. 2. 2.]\n",
      "\n",
      " 2\n",
      " 2\n",
      " 2\n",
      " 2\n",
      " 2\n",
      "[torch.DoubleTensor of size 5]\n",
      "\n"
     ]
    }
   ],
   "source": [
    "# numpyの行列をtorchのtensorに変換する\n",
    "\n",
    "import numpy as np\n",
    "a = np.ones(5)\n",
    "b = torch.from_numpy(a)\n",
    "np.add(a, 1, out=a)\n",
    "print(a)\n",
    "print(b)"
   ]
  },
  {
   "cell_type": "code",
   "execution_count": 7,
   "metadata": {},
   "outputs": [],
   "source": [
    "# 微分のような複雑な計算もサポートしてるtensorのラッパー\n",
    "from torch.autograd import Variable"
   ]
  },
  {
   "cell_type": "code",
   "execution_count": 8,
   "metadata": {},
   "outputs": [
    {
     "name": "stdout",
     "output_type": "stream",
     "text": [
      "Variable containing:\n",
      " 1  1\n",
      " 1  1\n",
      "[torch.FloatTensor of size 2x2]\n",
      "\n"
     ]
    }
   ],
   "source": [
    "# variableで行列を生成\n",
    "x = Variable(torch.ones(2, 2), requires_grad=True)\n",
    "print(x)"
   ]
  },
  {
   "cell_type": "code",
   "execution_count": 9,
   "metadata": {},
   "outputs": [
    {
     "name": "stdout",
     "output_type": "stream",
     "text": [
      "Variable containing:\n",
      " 3  3\n",
      " 3  3\n",
      "[torch.FloatTensor of size 2x2]\n",
      "\n"
     ]
    }
   ],
   "source": [
    "# ブロードキャストした演算\n",
    "y = x + 2\n",
    "print(y)"
   ]
  },
  {
   "cell_type": "code",
   "execution_count": 10,
   "metadata": {},
   "outputs": [
    {
     "name": "stdout",
     "output_type": "stream",
     "text": [
      "<AddBackward0 object at 0x7eff8c89e630>\n"
     ]
    }
   ],
   "source": [
    "# 演算によって生成した行列はgrad_fnをもつ\n",
    "print(y.grad_fn)"
   ]
  },
  {
   "cell_type": "code",
   "execution_count": 11,
   "metadata": {},
   "outputs": [
    {
     "name": "stdout",
     "output_type": "stream",
     "text": [
      "Variable containing:\n",
      " 27  27\n",
      " 27  27\n",
      "[torch.FloatTensor of size 2x2]\n",
      " Variable containing:\n",
      " 27\n",
      "[torch.FloatTensor of size 1]\n",
      "\n"
     ]
    }
   ],
   "source": [
    "# yをさらに演算する\n",
    "z = y * y * 3\n",
    "out = z.mean()\n",
    "print(z, out)"
   ]
  },
  {
   "cell_type": "code",
   "execution_count": 12,
   "metadata": {},
   "outputs": [],
   "source": [
    "# 最後しにした演算をbackward関数することでバックプロパゲートを開始する\n",
    "# backward関数に引数を渡さなければbackward(torch.Tensor([1.0]))と同じ\n",
    "out.backward()"
   ]
  },
  {
   "cell_type": "code",
   "execution_count": 13,
   "metadata": {},
   "outputs": [
    {
     "name": "stdout",
     "output_type": "stream",
     "text": [
      "Variable containing:\n",
      " 4.5000  4.5000\n",
      " 4.5000  4.5000\n",
      "[torch.FloatTensor of size 2x2]\n",
      "\n"
     ]
    }
   ],
   "source": [
    "# 例えばxの逆伝搬の値はこれ\n",
    "print(x.grad)"
   ]
  },
  {
   "cell_type": "code",
   "execution_count": 14,
   "metadata": {},
   "outputs": [
    {
     "name": "stdout",
     "output_type": "stream",
     "text": [
      "Variable containing:\n",
      "-0.5187\n",
      "-2.0135\n",
      "-2.3895\n",
      "[torch.FloatTensor of size 3]\n",
      "\n",
      "Variable containing:\n",
      " -265.5678\n",
      "-1030.9374\n",
      "-1223.4226\n",
      "[torch.FloatTensor of size 3]\n",
      "\n"
     ]
    }
   ],
   "source": [
    "# このような複雑な演算もできるよ\n",
    "x = torch.randn(3)\n",
    "x = Variable(x, requires_grad=True)\n",
    "\n",
    "y = x * 2\n",
    "print(y)\n",
    "# ベクトルのノルムが1000になるまでひたすら2をかけてみる\n",
    "while y.data.norm() < 1000:\n",
    "    y = y * 2\n",
    "\n",
    "print(y)"
   ]
  },
  {
   "cell_type": "code",
   "execution_count": 15,
   "metadata": {},
   "outputs": [
    {
     "name": "stdout",
     "output_type": "stream",
     "text": [
      "Variable containing:\n",
      "  102.4000\n",
      " 1024.0000\n",
      "    0.1024\n",
      "[torch.FloatTensor of size 3]\n",
      "\n"
     ]
    }
   ],
   "source": [
    "# このような複雑な演算もできるよ\n",
    "# backward関数に引数を渡せば出力の変化分に対応する微分を求められるよ\n",
    "gradients = torch.FloatTensor([0.1, 1.0, 0.0001])\n",
    "y.backward(gradients)\n",
    "\n",
    "print(x.grad)"
   ]
  },
  {
   "cell_type": "code",
   "execution_count": 16,
   "metadata": {},
   "outputs": [
    {
     "name": "stdout",
     "output_type": "stream",
     "text": [
      "Net(\n",
      "  (conv1): Conv2d(1, 6, kernel_size=(5, 5), stride=(1, 1))\n",
      "  (conv2): Conv2d(6, 16, kernel_size=(5, 5), stride=(1, 1))\n",
      "  (fc1): Linear(in_features=400, out_features=120, bias=True)\n",
      "  (fc2): Linear(in_features=120, out_features=84, bias=True)\n",
      "  (fc3): Linear(in_features=84, out_features=10, bias=True)\n",
      ")\n"
     ]
    }
   ],
   "source": [
    "# CNNの例\n",
    "import torch\n",
    "from torch.autograd import Variable\n",
    "import torch.nn as nn\n",
    "import torch.nn.functional as F\n",
    "\n",
    "\n",
    "class Net(nn.Module):\n",
    "\n",
    "    def __init__(self):\n",
    "        super(Net, self).__init__()\n",
    "        # 2次元入力をフィルターする畳み込み演算をおこなうコンボリューション層\n",
    "        # 1 input image channel, 6 output channels, 5x5 square convolution\n",
    "        self.conv1 = nn.Conv2d(1, 6, 5)\n",
    "        self.conv2 = nn.Conv2d(6, 16, 5)\n",
    "        \n",
    "        # アフィン変換による線形演算層\n",
    "        # an affine operation: y = Wx + b\n",
    "        # W(16 * 5 * 5, 120), 16 * 5 * 5 input_features, 120 output_features\n",
    "        self.fc1 = nn.Linear(16 * 5 * 5, 120)\n",
    "        self.fc2 = nn.Linear(120, 84)\n",
    "        self.fc3 = nn.Linear(84, 10)\n",
    "\n",
    "    def forward(self, x):\n",
    "        # Max pooling over a (2, 2) window\n",
    "        x = F.max_pool2d(F.relu(self.conv1(x)), (2, 2))\n",
    "        # If the size is a square you can only specify a single number\n",
    "        x = F.max_pool2d(F.relu(self.conv2(x)), 2)\n",
    "        x = x.view(-1, self.num_flat_features(x))\n",
    "        x = F.relu(self.fc1(x))\n",
    "        x = F.relu(self.fc2(x))\n",
    "        x = self.fc3(x)\n",
    "        return x\n",
    "\n",
    "    def num_flat_features(self, x):\n",
    "        size = x.size()[1:]  # all dimensions except the batch dimension\n",
    "        num_features = 1\n",
    "        for s in size:\n",
    "            num_features *= s\n",
    "        return num_features\n",
    "\n",
    "\n",
    "net = Net()\n",
    "print(net)"
   ]
  },
  {
   "cell_type": "code",
   "execution_count": 17,
   "metadata": {},
   "outputs": [
    {
     "name": "stdout",
     "output_type": "stream",
     "text": [
      "10\n",
      "Parameter containing:\n",
      "(0 ,0 ,.,.) = \n",
      "  0.0199 -0.1982  0.0438 -0.1476  0.1197\n",
      "  0.0520 -0.1908 -0.1153 -0.0674 -0.0086\n",
      "  0.0432 -0.0997 -0.1729 -0.1023  0.0325\n",
      "  0.0932  0.0614  0.1386 -0.0003  0.0187\n",
      "  0.0247  0.0578 -0.1575 -0.1124  0.0195\n",
      "\n",
      "(1 ,0 ,.,.) = \n",
      "  0.1101 -0.0930  0.1836 -0.1109  0.1920\n",
      "  0.0717 -0.1691 -0.1748 -0.1562 -0.0567\n",
      " -0.0923 -0.1802  0.1656  0.0858 -0.1745\n",
      " -0.1854  0.0404 -0.1746 -0.0227 -0.0694\n",
      " -0.1082  0.0321  0.1728  0.1331  0.1387\n",
      "\n",
      "(2 ,0 ,.,.) = \n",
      " -0.1647  0.0326 -0.1632 -0.0462 -0.0135\n",
      " -0.1210  0.1022 -0.0362 -0.0090  0.1485\n",
      "  0.1400  0.0676 -0.1529  0.0719 -0.0414\n",
      " -0.0002  0.0012 -0.1944 -0.1418 -0.0381\n",
      "  0.0934 -0.1819  0.1250 -0.1092  0.0113\n",
      "\n",
      "(3 ,0 ,.,.) = \n",
      "  0.1146  0.1534  0.0427 -0.0486  0.0205\n",
      "  0.0996  0.0623  0.0499  0.0073 -0.0670\n",
      " -0.0759 -0.1242 -0.0460 -0.1079  0.1108\n",
      " -0.1734 -0.0385 -0.0967  0.1777  0.0956\n",
      " -0.1044 -0.0347  0.0612  0.1833 -0.0451\n",
      "\n",
      "(4 ,0 ,.,.) = \n",
      "  0.1218 -0.0346 -0.1145 -0.0480 -0.0649\n",
      "  0.0470  0.0635 -0.1526 -0.1823  0.0854\n",
      " -0.1764 -0.1917 -0.1036  0.0621  0.0330\n",
      " -0.0509 -0.0048  0.0577  0.0997 -0.0288\n",
      "  0.0522  0.0790  0.1225  0.1513  0.1831\n",
      "\n",
      "(5 ,0 ,.,.) = \n",
      " -0.1576  0.0666  0.0660 -0.0451 -0.0678\n",
      "  0.0843 -0.0660  0.0731 -0.0258  0.0439\n",
      "  0.1968  0.1315 -0.0055  0.1852 -0.0975\n",
      "  0.1073  0.0585  0.1679 -0.0892  0.0544\n",
      " -0.1067 -0.1583  0.0608 -0.0534 -0.0121\n",
      "[torch.FloatTensor of size 6x1x5x5]\n",
      "\n",
      "torch.Size([6, 1, 5, 5])\n"
     ]
    }
   ],
   "source": [
    "# CNNの最初のコンボリューション層の重みにアクセス\n",
    "params = list(net.parameters())\n",
    "# ニューラルネットが最後に吐き出すパラメーターのサイズ\n",
    "print(len(params))\n",
    "# 重みの行列\n",
    "print(params[0])\n",
    "# 重みの行列サイズ\n",
    "print(params[0].size())  # conv1's .weight"
   ]
  },
  {
   "cell_type": "code",
   "execution_count": 18,
   "metadata": {},
   "outputs": [
    {
     "name": "stdout",
     "output_type": "stream",
     "text": [
      "Variable containing:\n",
      "1.00000e-02 *\n",
      "  3.0453  2.2074 -7.1399 -7.7145 -1.6841  0.0790  1.5687 -4.8606  3.0918 -8.8330\n",
      "[torch.FloatTensor of size 1x10]\n",
      "\n"
     ]
    }
   ],
   "source": [
    "# 試しにネットに32x32の画像データを流す\n",
    "input = Variable(torch.randn(1, 1, 32, 32))\n",
    "out = net(input)\n",
    "print(out)"
   ]
  },
  {
   "cell_type": "code",
   "execution_count": 19,
   "metadata": {},
   "outputs": [
    {
     "name": "stdout",
     "output_type": "stream",
     "text": [
      "Variable containing:\n",
      "  1\n",
      "  2\n",
      "  3\n",
      "  4\n",
      "  5\n",
      "  6\n",
      "  7\n",
      "  8\n",
      "  9\n",
      " 10\n",
      "[torch.FloatTensor of size 10]\n",
      "\n",
      "Variable containing:\n",
      " 38.7848\n",
      "[torch.FloatTensor of size 1]\n",
      "\n"
     ]
    }
   ],
   "source": [
    "# 損失関数を使ってみる\n",
    "output = net(input)\n",
    "target = Variable(torch.arange(1, 11))  # a dummy target, for example\n",
    "print(target)\n",
    "# 二乗和誤差をつかってみる\n",
    "# ニューラルネットの出力と1..10連番を比較\n",
    "criterion = nn.MSELoss()\n",
    "loss = criterion(output, target)\n",
    "print(loss)"
   ]
  },
  {
   "cell_type": "code",
   "execution_count": 20,
   "metadata": {},
   "outputs": [
    {
     "name": "stdout",
     "output_type": "stream",
     "text": [
      "<MseLossBackward object at 0x7eff63a726a0>\n",
      "<AddmmBackward object at 0x7eff63a72630>\n",
      "<ExpandBackward object at 0x7eff63a726a0>\n"
     ]
    }
   ],
   "source": [
    "# grad_fnを使えばバックプロパゲートを観察できる\n",
    "# input -> conv2d -> relu -> maxpool2d -> conv2d -> relu -> maxpool2d\n",
    "#       -> view -> linear -> relu -> linear -> relu -> linear\n",
    "#       -> MSELoss\n",
    "#       -> loss\n",
    "print(loss.grad_fn)  # MSELoss\n",
    "# それぞれの層のバックプロパゲーションを出力\n",
    "print(loss.grad_fn.next_functions[0][0])  # Linear\n",
    "print(loss.grad_fn.next_functions[0][0].next_functions[0][0])  # ReLU"
   ]
  },
  {
   "cell_type": "code",
   "execution_count": 21,
   "metadata": {},
   "outputs": [
    {
     "name": "stdout",
     "output_type": "stream",
     "text": [
      "conv1.bias.grad after backward\n",
      "Variable containing:\n",
      "1.00000e-02 *\n",
      " -2.6496\n",
      "  5.1241\n",
      " -5.4923\n",
      " -0.0194\n",
      " -2.2470\n",
      " -5.5655\n",
      "[torch.FloatTensor of size 6]\n",
      "\n"
     ]
    }
   ],
   "source": [
    "# 勾配の初期化\n",
    "net.zero_grad()\n",
    "\n",
    "# 勾配の計算\n",
    "loss.backward()\n",
    "\n",
    "print('conv1.bias.grad after backward')\n",
    "print(net.conv1.bias.grad)"
   ]
  },
  {
   "cell_type": "code",
   "execution_count": 22,
   "metadata": {},
   "outputs": [],
   "source": [
    "# 重みの更新\n",
    "# weight = weight - learning_rate * gradient\n",
    "learning_rate = 0.01\n",
    "for f in net.parameters():\n",
    "    f.data.sub_(f.grad.data * learning_rate)"
   ]
  },
  {
   "cell_type": "code",
   "execution_count": 23,
   "metadata": {},
   "outputs": [],
   "source": [
    "# 重みの更新のアルゴリズムはこのパッケージから取得\n",
    "import torch.optim as optim\n",
    "\n",
    "# create your optimizer\n",
    "optimizer = optim.SGD(net.parameters(), lr=0.01)\n",
    "\n",
    "# in your training loop:\n",
    "optimizer.zero_grad()   # zero the gradient buffers\n",
    "output = net(input)\n",
    "loss = criterion(output, target)\n",
    "loss.backward()\n",
    "optimizer.step()    # Does the update"
   ]
  },
  {
   "cell_type": "code",
   "execution_count": 33,
   "metadata": {},
   "outputs": [
    {
     "name": "stdout",
     "output_type": "stream",
     "text": [
      "Files already downloaded and verified\n",
      "Files already downloaded and verified\n",
      "<torch.utils.data.sampler.RandomSampler object at 0x7eff58493b70>\n"
     ]
    }
   ],
   "source": [
    "# torchvision: pytorchのコンピュータービジョン用のパッケージ\n",
    "# 一般物体認識のベンチマークとしてよく使われているCIFAR-10という画像データセットを用意する\n",
    "import torchvision\n",
    "import torchvision.transforms as transforms\n",
    "\n",
    "\n",
    "# データをロードした後に行う下処理の関数を構成します．\n",
    "# データをpytorchの定義するtorch.Tensorというテンソルに型を変更\n",
    "# 引数の一つ目のタプルがRGBの各チャンネルの平均、二つ目のタプルが標準偏差で、この条件で正規化する\n",
    "transform = transforms.Compose(\n",
    "    [transforms.ToTensor(),\n",
    "     transforms.Normalize((0.5, 0.5, 0.5), (0.5, 0.5, 0.5))])\n",
    "\n",
    "# トレーニングデータセットを読み込むみ、正規化\n",
    "trainset = torchvision.datasets.CIFAR10(root='./data', train=True,\n",
    "                                        download=True, transform=transform)\n",
    "# サンプリングする。サンプリングするときの条件も指定できる\n",
    "trainloader = torch.utils.data.DataLoader(trainset, batch_size=4,\n",
    "                                          shuffle=True, num_workers=2)\n",
    "\n",
    "# テストデータセットを読み込み、正規化\n",
    "testset = torchvision.datasets.CIFAR10(root='./data', train=False,\n",
    "                                       download=True, transform=transform)\n",
    "# サンプリングする。サンプリングするときの条件も指定できる\n",
    "testloader = torch.utils.data.DataLoader(testset, batch_size=4,\n",
    "                                         shuffle=False, num_workers=2)\n",
    "\n",
    "classes = ('plane', 'car', 'bird', 'cat',\n",
    "           'deer', 'dog', 'frog', 'horse', 'ship', 'truck')"
   ]
  },
  {
   "cell_type": "code",
   "execution_count": 58,
   "metadata": {},
   "outputs": [
    {
     "name": "stdout",
     "output_type": "stream",
     "text": [
      "(3, 36, 138)\n",
      "horse  ship  ship truck\n"
     ]
    },
    {
     "data": {
      "image/png": "[encoded data removed]",
      "text/plain": [
       "<matplotlib.figure.Figure at 0x7eff58214e48>"
      ]
     },
     "metadata": {},
     "output_type": "display_data"
    }
   ],
   "source": [
    "%matplotlib inline\n",
    "import matplotlib.pyplot as plt\n",
    "import numpy as np\n",
    "\n",
    "# 写真を表示するメソッド\n",
    "def imshow(img):\n",
    "    # Floating point image RGB values must be in the 0..1 range.なのでそれに合わせて計算する\n",
    "    img = img / 2 + 0.5\n",
    "    npimg = img.numpy()\n",
    "    print(npimg.shape)\n",
    "    plt.imshow(np.transpose(npimg, (1, 2, 0)))\n",
    "\n",
    "# 訓練用データをランダムに取得\n",
    "dataiter = iter(trainloader)\n",
    "# それぞれ画像データとラベルデータを格納\n",
    "images, labels = dataiter.next()\n",
    "\n",
    "# 写真を表示\n",
    "# print(torchvision.utils.make_grid(images))\n",
    "imshow(torchvision.utils.make_grid(images))\n",
    "# ラベルを表示\n",
    "print(' '.join('%5s' % classes[labels[j]] for j in range(4)))"
   ]
  },
  {
   "cell_type": "code",
   "execution_count": null,
   "metadata": {},
   "outputs": [],
   "source": [
    "from torch.autograd import Variable\n",
    "import torch.nn as nn\n",
    "import torch.nn.functional as F\n",
    "\n",
    "\n",
    "class Net(nn.Module):\n",
    "    def __init__(self):\n",
    "        super(Net, self).__init__()\n",
    "        self.conv1 = nn.Conv2d(3, 6, 5)\n",
    "        self.pool = nn.MaxPool2d(2, 2)\n",
    "        self.conv2 = nn.Conv2d(6, 16, 5)\n",
    "        self.fc1 = nn.Linear(16 * 5 * 5, 120)\n",
    "        self.fc2 = nn.Linear(120, 84)\n",
    "        self.fc3 = nn.Linear(84, 10)\n",
    "\n",
    "    def forward(self, x):\n",
    "        x = self.pool(F.relu(self.conv1(x)))\n",
    "        x = self.pool(F.relu(self.conv2(x)))\n",
    "        x = x.view(-1, 16 * 5 * 5)\n",
    "        x = F.relu(self.fc1(x))\n",
    "        x = F.relu(self.fc2(x))\n",
    "        x = self.fc3(x)\n",
    "        return x\n",
    "\n",
    "\n",
    "net = Net()"
   ]
  },
  {
   "cell_type": "code",
   "execution_count": null,
   "metadata": {},
   "outputs": [],
   "source": []
  }
 ],
 "metadata": {
  "kernelspec": {
   "display_name": "Python 3",
   "language": "python",
   "name": "python3"
  },
  "language_info": {
   "codemirror_mode": {
    "name": "ipython",
    "version": 3
   },
   "file_extension": ".py",
   "mimetype": "text/x-python",
   "name": "python",
   "nbconvert_exporter": "python",
   "pygments_lexer": "ipython3",
   "version": "3.5.1"
  }
 },
 "nbformat": 4,
 "nbformat_minor": 2
}
