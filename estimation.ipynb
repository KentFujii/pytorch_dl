{
 "cells": [
  {
   "cell_type": "code",
   "execution_count": 1,
   "metadata": {},
   "outputs": [
    {
     "name": "stdout",
     "output_type": "stream",
     "text": [
      "torch.Size([100, 3])\n",
      "torch.Size([100])\n",
      "torch.Size([3])\n"
     ]
    }
   ],
   "source": [
    "# 二変数の線形モデルを考える\n",
    "# y = 1 + 2*x1 + 3*x2\n",
    "import torch\n",
    "from torch.autograd import Variable as V\n",
    "\n",
    "\n",
    "w_true = torch.Tensor([1, 2, 3])\n",
    "# 適当に入力データを作成\n",
    "X = torch.cat([torch.ones(100, 1), torch.randn(100, 2)], 1)\n",
    "# 真の出力に揺らぎを与えてテストデータを作る\n",
    "y = torch.mv(X, w_true) + torch.randn(100) * 0.5\n",
    "X = V(X)\n",
    "y = V(y)\n",
    "w = V(torch.randn(3), requires_grad=True)\n",
    "print(X.size())\n",
    "print(y.size())\n",
    "print(w.size())\n",
    "gamma = 0.1"
   ]
  },
  {
   "cell_type": "code",
   "execution_count": 2,
   "metadata": {},
   "outputs": [],
   "source": [
    "losses = []\n",
    "for epoc in range(100):\n",
    "    w.grad = None\n",
    "    # マトリクスとベクトルの掛け算\n",
    "    y_pred = torch.mv(X, w)\n",
    "    # 最小二乗法\n",
    "    loss = torch.mean((y - y_pred) ** 2)\n",
    "    loss.backward()\n",
    "    # 最小二乗法のバックプロパゲートから得たwの勾配分だけ学習させる\n",
    "    w.data = w.data - gamma * w.grad.data\n",
    "    losses.append(loss.data[0])"
   ]
  },
  {
   "cell_type": "code",
   "execution_count": 3,
   "metadata": {},
   "outputs": [
    {
     "data": {
      "text/plain": [
       "[<matplotlib.lines.Line2D at 0x7f6ef4038908>]"
      ]
     },
     "execution_count": 3,
     "metadata": {},
     "output_type": "execute_result"
    },
    {
     "data": {
      "image/png": "[encoded data removed]",
      "text/plain": [
       "<matplotlib.figure.Figure at 0x7f6f183e27b8>"
      ]
     },
     "metadata": {},
     "output_type": "display_data"
    }
   ],
   "source": [
    "%matplotlib inline\n",
    "from matplotlib import pyplot as plt\n",
    "\n",
    "\n",
    "plt.plot(losses)"
   ]
  },
  {
   "cell_type": "code",
   "execution_count": 4,
   "metadata": {},
   "outputs": [
    {
     "data": {
      "text/plain": [
       "Variable containing:\n",
       " 1.0128\n",
       " 1.9741\n",
       " 3.0634\n",
       "[torch.FloatTensor of size 3]"
      ]
     },
     "execution_count": 4,
     "metadata": {},
     "output_type": "execute_result"
    }
   ],
   "source": [
    "# 真の係数は[1, 2, 3]\n",
    "w"
   ]
  },
  {
   "cell_type": "code",
   "execution_count": 5,
   "metadata": {},
   "outputs": [],
   "source": [
    "# pytorchにビルドインされてる線形モデルと最適化法を使ってみる\n",
    "from torch import nn, optim\n",
    "\n",
    "# (3, 1)のモデル、切片をout_featureの中にいれるためbias項はなしにする\n",
    "net = nn.Linear(in_features=3, out_features=1, bias=False)\n",
    "# 確率的勾配降下法\n",
    "optimizer = optim.SGD(net.parameters(), lr=0.1)\n",
    "# 損失関数には最小二乗法をつかう\n",
    "loss_fn = nn.MSELoss()"
   ]
  },
  {
   "cell_type": "code",
   "execution_count": 6,
   "metadata": {},
   "outputs": [],
   "source": [
    "losses = []\n",
    "for epoc in range(100):\n",
    "    optimizer.zero_grad()\n",
    "    y_pred = net(X)\n",
    "    loss = loss_fn(y_pred, y)\n",
    "    loss.backward()\n",
    "    optimizer.step()\n",
    "    losses.append(loss.data[0])"
   ]
  },
  {
   "cell_type": "code",
   "execution_count": 7,
   "metadata": {},
   "outputs": [
    {
     "data": {
      "text/plain": [
       "[Parameter containing:\n",
       "  1.0128  1.9741  3.0634\n",
       " [torch.FloatTensor of size 1x3]]"
      ]
     },
     "execution_count": 7,
     "metadata": {},
     "output_type": "execute_result"
    }
   ],
   "source": [
    "list(net.parameters())"
   ]
  },
  {
   "cell_type": "code",
   "execution_count": 8,
   "metadata": {},
   "outputs": [
    {
     "name": "stdout",
     "output_type": "stream",
     "text": [
      "torch.Size([100, 4])\n",
      "torch.Size([100])\n"
     ]
    }
   ],
   "source": [
    "# アヤメデータを用意する\n",
    "from sklearn.datasets import load_iris\n",
    "\n",
    "\n",
    "# 二クラス問題にするため100までしか取り込まない\n",
    "iris = load_iris()\n",
    "X = iris.data[:100]\n",
    "y = iris.target[:100]\n",
    "X = V(torch.Tensor(X))\n",
    "y = V(torch.Tensor(y))\n",
    "print(X.size())\n",
    "print(y.size())"
   ]
  },
  {
   "cell_type": "code",
   "execution_count": 9,
   "metadata": {},
   "outputs": [],
   "source": [
    "# アヤメデータの入力(4, 1)のモデル\n",
    "net = nn.Linear(4, 1)\n",
    "# 二値問題の分類問題はシグモイド関数を作用させたクロスエントロピーを使う\n",
    "# シグモイド関数を作用させたクロスエントロピー\n",
    "loss_fn = nn.BCEWithLogitsLoss()\n",
    "# 勾配計算は確率的最小勾配法\n",
    "optimizer = optim.SGD(net.parameters(), lr=0.25)"
   ]
  },
  {
   "cell_type": "code",
   "execution_count": 10,
   "metadata": {},
   "outputs": [],
   "source": [
    "losses = []\n",
    "for epoc in range(1000):\n",
    "    optimizer.zero_grad()\n",
    "    y_pred = net(X)\n",
    "    loss = loss_fn(y_pred, y.view(100, 1))\n",
    "    loss.backward()\n",
    "    optimizer.step()\n",
    "    losses.append(loss.data[0])"
   ]
  },
  {
   "cell_type": "code",
   "execution_count": 11,
   "metadata": {},
   "outputs": [
    {
     "data": {
      "text/plain": [
       "[<matplotlib.lines.Line2D at 0x7f6edcc13f60>]"
      ]
     },
     "execution_count": 11,
     "metadata": {},
     "output_type": "execute_result"
    },
    {
     "data": {
      "image/png": "[encoded data removed]",
      "text/plain": [
       "<matplotlib.figure.Figure at 0x7f6edcc05208>"
      ]
     },
     "metadata": {},
     "output_type": "display_data"
    }
   ],
   "source": [
    "plt.plot(losses)"
   ]
  },
  {
   "cell_type": "code",
   "execution_count": 12,
   "metadata": {},
   "outputs": [
    {
     "data": {
      "text/plain": [
       "Variable containing:\n",
       " 100\n",
       "[torch.ByteTensor of size 1]"
      ]
     },
     "execution_count": 12,
     "metadata": {},
     "output_type": "execute_result"
    }
   ],
   "source": [
    "# 線型結合の結果\n",
    "h = net(X)\n",
    "# シグモイドを作用させた確率\n",
    "prob = nn.functional.sigmoid(h)\n",
    "# 確率として、0付近の値と1付近の値に固まってるはずなので、0.5以上でマスクする\n",
    "y_pred = prob > 0.5\n",
    "# マスクした結果が真の値と同じになる\n",
    "(y.byte().view(100, 1) == y_pred).sum()"
   ]
  },
  {
   "cell_type": "code",
   "execution_count": 13,
   "metadata": {},
   "outputs": [],
   "source": [
    "from sklearn.datasets import load_digits\n",
    "\n",
    "\n",
    "# 多クラス問題\n",
    "digits = load_digits()\n",
    "X = digits.data\n",
    "y = digits.target\n",
    "X = V(torch.Tensor(X))\n",
    "# CrossEntropyLoss()はLongTensorを返すので計算の型を合わせる\n",
    "y = V(torch.LongTensor(y))\n",
    "net = nn.Linear(X.size()[1], 10)\n",
    "loss_fn = nn.CrossEntropyLoss()\n",
    "optimizer = optim.SGD(net.parameters(), lr=0.01)"
   ]
  },
  {
   "cell_type": "code",
   "execution_count": 14,
   "metadata": {},
   "outputs": [],
   "source": [
    "losses = []\n",
    "for epoc in range(1000):\n",
    "    optimizer.zero_grad()\n",
    "    y_pred = net(X)\n",
    "    loss = loss_fn(y_pred, y)\n",
    "    loss.backward()\n",
    "    optimizer.step()\n",
    "    losses.append(loss.data[0])"
   ]
  },
  {
   "cell_type": "code",
   "execution_count": 15,
   "metadata": {},
   "outputs": [
    {
     "data": {
      "text/plain": [
       "Variable containing:\n",
       " 0.9900\n",
       "[torch.FloatTensor of size 1]"
      ]
     },
     "execution_count": 15,
     "metadata": {},
     "output_type": "execute_result"
    }
   ],
   "source": [
    "# 答え合わせ\n",
    "# 確率の最大値のラベルを予測値として集計\n",
    "# torch.max()は集計軸を指定すると最大値とその位置のタプルを返す\n",
    "_, y_pred = torch.max(net(X), 1)\n",
    "# 正解率を計算\n",
    "(y_pred == y).float().sum() / len(y)"
   ]
  }
 ],
 "metadata": {
  "kernelspec": {
   "display_name": "Python 3",
   "language": "python",
   "name": "python3"
  },
  "language_info": {
   "codemirror_mode": {
    "name": "ipython",
    "version": 3
   },
   "file_extension": ".py",
   "mimetype": "text/x-python",
   "name": "python",
   "nbconvert_exporter": "python",
   "pygments_lexer": "ipython3",
   "version": "3.5.1"
  }
 },
 "nbformat": 4,
 "nbformat_minor": 2
}
