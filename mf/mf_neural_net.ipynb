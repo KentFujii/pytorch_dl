{
 "cells": [
  {
   "cell_type": "code",
   "execution_count": 1,
   "metadata": {},
   "outputs": [],
   "source": [
    "# http://files.grouplens.org/datasets/movielens/ml-20m.zip\n",
    "import pandas as pd\n",
    "from sklearn import model_selection\n",
    "import torch\n",
    "from torch.utils.data import TensorDataset\n",
    "from torch.utils.data import DataLoader\n",
    "\n",
    "\n",
    "df = pd.read_csv('./ml-20m/ratings.csv')\n",
    "X = df[['userId', 'movieId']].values\n",
    "Y = df[['rating']].values\n",
    "train_X, test_X, train_Y, test_Y = model_selection.train_test_split(X, Y, test_size=0.1)\n",
    "train_dataset = TensorDataset(torch.LongTensor(train_X), torch.FloatTensor(train_Y))\n",
    "test_dataset = TensorDataset(torch.LongTensor(test_X), torch.FloatTensor(test_Y))\n",
    "train_loader = DataLoader(train_dataset, batch_size=1024, num_workers=4, shuffle=True)\n",
    "test_loader = DataLoader(test_dataset, batch_size=1024, num_workers=4)"
   ]
  },
  {
   "cell_type": "code",
   "execution_count": 2,
   "metadata": {},
   "outputs": [],
   "source": [
    "from torch import nn\n",
    "\n",
    "\n",
    "# 行列因子分解の内積をとる代わりにMLPを通して非線形化\n",
    "class NeuralMatrixFactorization(nn.Module):\n",
    "    def __init__(self, max_user, max_item, user_k=10, item_k=10, hidden_dim=50):\n",
    "        super().__init__()\n",
    "        self.user_emb = nn.Embedding(max_user, user_k, 0)\n",
    "        self.item_emb = nn.Embedding(max_item, item_k, 0)\n",
    "        self.mlp = nn.Sequential(\n",
    "            nn.Linear(user_k + item_k, hidden_dim),\n",
    "            nn.ReLU(),\n",
    "            nn.BatchNorm1d(hidden_dim),\n",
    "            nn.Linear(hidden_dim, hidden_dim),\n",
    "            nn.ReLU(),\n",
    "            nn.BatchNorm1d(hidden_dim),\n",
    "            nn.Linear(hidden_dim, 1)\n",
    "        )\n",
    "        \n",
    "    def forward(self, x):\n",
    "        user_idx = x[:, 0]\n",
    "        item_idx = x[:, 1]\n",
    "        user_feature = self.user_emb(user_idx)\n",
    "        item_feature = self.item_emb(item_idx)\n",
    "        # ユーザー特徴量と商品特徴量をまとめて一つのベクトルにする\n",
    "        out = torch.cat([user_feature, item_feature], 1)\n",
    "        # まとめた特徴量ベクトルをMLPに入れる\n",
    "        # 内積をしないので、dot((n, k),(k, m))の様な特徴量ベクトルの次元をそろえる必要がない\n",
    "        # バッチノーマリゼーションのようなニューラルネットの訓練のテクニックがそのまま使える\n",
    "        out = self.mlp(out)\n",
    "        out = nn.functional.sigmoid(out) * 5\n",
    "        return out.squeeze()"
   ]
  },
  {
   "cell_type": "code",
   "execution_count": 3,
   "metadata": {},
   "outputs": [],
   "source": [
    "max_user, max_item = X.max(0)\n",
    "max_user = int(max_user)\n",
    "max_item = int(max_item)\n",
    "net = NeuralMatrixFactorization(max_user+1, max_item+1)"
   ]
  },
  {
   "cell_type": "code",
   "execution_count": 4,
   "metadata": {},
   "outputs": [],
   "source": [
    "from torch.autograd import Variable as V\n",
    "from statistics import mean\n",
    "\n",
    "\n",
    "def mae(x, y):\n",
    "    # 平均絶対誤差を計算\n",
    "    return (x - y).abs().mean()\n",
    "\n",
    "def eval_net(net, loader, score_fn=mae):\n",
    "    ys = []\n",
    "    ypreds = []\n",
    "    for x, y in loader:\n",
    "        x = V(x)\n",
    "        ys.append(y)\n",
    "        ypred = net(x).data\n",
    "        ypreds.append(ypred)\n",
    "    score = score_fn(torch.cat(ys).squeeze(), torch.cat(ypreds))\n",
    "    return score"
   ]
  },
  {
   "cell_type": "code",
   "execution_count": 5,
   "metadata": {},
   "outputs": [
    {
     "name": "stdout",
     "output_type": "stream",
     "text": [
      "0 0.7535731178636376 0.6477937812666393\n",
      "1 0.6907853181807415 0.6313660525415021\n",
      "2 0.6695159246432062 0.6288411734874598\n",
      "3 0.6546556788338106 0.6245222466788294\n",
      "4 0.639868713125745 0.620215331755076\n"
     ]
    }
   ],
   "source": [
    "import resource\n",
    "from torch import optim\n",
    "\n",
    "\n",
    "rlimit = resource.getrlimit(resource.RLIMIT_NOFILE)\n",
    "resource.setrlimit(resource.RLIMIT_NOFILE, (2048, rlimit[1]))\n",
    "\n",
    "# 普通のMFより良い精度が得られる\n",
    "opt = optim.Adam(net.parameters(), lr=0.01)\n",
    "loss_f = nn.MSELoss()\n",
    "for epoch in range(5):\n",
    "    loss_log = []\n",
    "    for x, y in train_loader:\n",
    "        x = V(x)\n",
    "        y = V(y)\n",
    "        o = net(x)\n",
    "        loss = loss_f(o, y)\n",
    "        net.zero_grad()\n",
    "        loss.backward()\n",
    "        opt.step()\n",
    "        loss_log.append(loss.data[0])\n",
    "    test_score = eval_net(net, test_loader)\n",
    "    print(epoch, mean(loss_log), test_score, flush=True)"
   ]
  },
  {
   "cell_type": "code",
   "execution_count": 6,
   "metadata": {},
   "outputs": [
    {
     "data": {
      "text/plain": [
       "Variable containing:\n",
       " 3.8138\n",
       "[torch.FloatTensor of size 1]"
      ]
     },
     "execution_count": 6,
     "metadata": {},
     "output_type": "execute_result"
    }
   ],
   "source": [
    "# ユーザー1、映画10、の評価を計算したい\n",
    "query = (1, 10)\n",
    "# LongTensorに変換し、batchの次元を付加\n",
    "# 次元(2, )を(1, 2)に変換\n",
    "query = torch.LongTensor(query).view(1, -1)\n",
    "net.eval()\n",
    "net(V(query))"
   ]
  },
  {
   "cell_type": "code",
   "execution_count": 7,
   "metadata": {},
   "outputs": [
    {
     "name": "stdout",
     "output_type": "stream",
     "text": [
      "Variable containing:\n",
      " 4.3063\n",
      " 4.2946\n",
      " 4.2905\n",
      " 4.2571\n",
      " 4.2345\n",
      "[torch.FloatTensor of size 5]\n",
      " Variable containing:\n",
      "   109\n",
      "  7152\n",
      "   317\n",
      "   355\n",
      " 58558\n",
      "[torch.LongTensor of size 5]\n",
      "\n"
     ]
    }
   ],
   "source": [
    "# あるユーザーに対する全映画の評価予測値を計算し、上位5つを取り出す\n",
    "# 映画の数だけ(userId, movieId)のペアを作り、ネットワークに渡して評価値を作る\n",
    "query = torch.stack([\n",
    "    torch.zeros(max_item).fill_(1),\n",
    "    torch.arange(1, max_item+1)\n",
    "], 1).long()\n",
    "scores, indices = torch.topk(net(V(query)), 5)\n",
    "print(scores, indices)"
   ]
  },
  {
   "cell_type": "code",
   "execution_count": 8,
   "metadata": {},
   "outputs": [],
   "source": [
    "import csv\n",
    "from sklearn.feature_extraction.text import CountVectorizer\n",
    "\n",
    "# ジャンルの辞書を作る\n",
    "with open('./ml-20m/movies.csv') as fp:\n",
    "    reader = csv.DictReader(fp)\n",
    "    def parse(d):\n",
    "        movieId = int(d['movieId'])\n",
    "        genres = d['genres']\n",
    "        return movieId, genres\n",
    "    data = [parse(d) for d in reader]\n",
    "\n",
    "movieIds = [x[0] for x in data]\n",
    "genres = [x[1] for x in data]\n",
    "# CountVectorizerでBoWの特徴量を作る\n",
    "cv = CountVectorizer(dtype='f4').fit(genres)\n",
    "# ジャンルの数\n",
    "num_genres = len(cv.get_feature_names())\n",
    "# BoWの次元は(27278, 24)\n",
    "it = cv.transform(genres).toarray()\n",
    "it = (torch.FloatTensor(g) for g in it)\n",
    "# keyがmovieIdでvalueがBoWのTensorを作る\n",
    "genre_dict = dict(zip(movieIds, it))"
   ]
  },
  {
   "cell_type": "code",
   "execution_count": 9,
   "metadata": {},
   "outputs": [],
   "source": [
    "from torch.utils.data import Dataset\n",
    "\n",
    "\n",
    "def first(xs):\n",
    "    it = iter(xs)\n",
    "    return next(it)\n",
    "\n",
    "# userId, movieId, ratingと一緒にジャンルBoWを返すDataset\n",
    "class MovieLensDataset(Dataset):\n",
    "    def __init__(self, x, y, genres):\n",
    "        assert len(x) == len(y)\n",
    "        self.x = x\n",
    "        self.y = y\n",
    "        self.genres = genres\n",
    "        # ジャンル辞書にないmovieIdの時のダミーデータ(ゼロ行列)\n",
    "        self.null_genre = torch.zeros_like(first(genres.values()))\n",
    "        \n",
    "    def __len__(self):\n",
    "        return len(self.x)\n",
    "    \n",
    "    def __getitem__(self, idx):\n",
    "        x = self.x[idx]\n",
    "        y = self.y[idx]\n",
    "        movieId = x[1]\n",
    "        g = self.genres.get(movieId, self.null_genre)\n",
    "        return x, y, g"
   ]
  },
  {
   "cell_type": "code",
   "execution_count": 10,
   "metadata": {},
   "outputs": [],
   "source": [
    "train_dataset = MovieLensDataset(\n",
    "    torch.LongTensor(train_X),\n",
    "    torch.FloatTensor(train_Y),\n",
    "    genre_dict\n",
    ")\n",
    "test_dataset = MovieLensDataset(\n",
    "    torch.LongTensor(test_X),\n",
    "    torch.FloatTensor(test_Y),\n",
    "    genre_dict\n",
    ")\n",
    "train_loader = DataLoader(train_dataset, batch_size=1024, shuffle=True, num_workers=4)\n",
    "test_loader = DataLoader(test_dataset, batch_size=1024, num_workers=4)"
   ]
  },
  {
   "cell_type": "code",
   "execution_count": 11,
   "metadata": {},
   "outputs": [],
   "source": [
    "from torch import nn\n",
    "\n",
    "\n",
    "# ジャンル情報も織り込んだネットワークモデル\n",
    "class NeuralMatrixFactorization2(nn.Module):\n",
    "    def __init__(self, max_user, max_item, num_genres, user_k=10, item_k=10, hidden_dim=50):\n",
    "        super().__init__()\n",
    "        self.user_emb = nn.Embedding(max_user, user_k, 0)\n",
    "        self.item_emb = nn.Embedding(max_item, item_k, 0)\n",
    "        # num_genres分だけ次元を増やす\n",
    "        self.mlp = nn.Sequential(\n",
    "            nn.Linear(user_k + item_k + num_genres, hidden_dim),\n",
    "            nn.ReLU(),\n",
    "            nn.BatchNorm1d(hidden_dim),\n",
    "            nn.Linear(hidden_dim, hidden_dim),\n",
    "            nn.ReLU(),\n",
    "            nn.BatchNorm1d(hidden_dim),\n",
    "            nn.Linear(hidden_dim, 1)\n",
    "        )\n",
    "        \n",
    "    def forward(self, x, g):\n",
    "        user_idx = x[:, 0]\n",
    "        item_idx = x[:, 1]\n",
    "        user_feature = self.user_emb(user_idx)\n",
    "        item_feature = self.item_emb(item_idx)\n",
    "        # ジャンルのBoWを特徴ベクトルに結合\n",
    "        out = torch.cat([user_feature, item_feature, g], 1)\n",
    "        out = self.mlp(out)\n",
    "        out = nn.functional.sigmoid(out) * 5\n",
    "        return out.squeeze()"
   ]
  },
  {
   "cell_type": "code",
   "execution_count": 12,
   "metadata": {},
   "outputs": [],
   "source": [
    "def mae(x, y):\n",
    "    return (x - y).abs().mean()\n",
    "\n",
    "# ネットワークにuserId, movieId以外にジャンルのBoWを渡すようになったので、評価関数も変更\n",
    "def eval_net(net, loader, score_fn=mae):\n",
    "    ys = []\n",
    "    ypreds = []\n",
    "    for x, y, g in loader:\n",
    "        x = V(x)\n",
    "        g = V(g)\n",
    "        ys.append(y)\n",
    "        ypred = net(x, g).data\n",
    "        ypreds.append(ypred)\n",
    "    score = score_fn(torch.cat(ys).squeeze(), torch.cat(ypreds))\n",
    "    return score"
   ]
  },
  {
   "cell_type": "code",
   "execution_count": 13,
   "metadata": {},
   "outputs": [
    {
     "name": "stdout",
     "output_type": "stream",
     "text": [
      "0 0.7497978749735796 0.6420253083307167\n",
      "1 0.6831190756403605 0.6290456645330885\n",
      "2 0.6541487066790108 0.6190908115267977\n",
      "3 0.6320047632670998 0.6140315166739249\n",
      "4 0.6166021982057963 0.6112788813222539\n"
     ]
    }
   ],
   "source": [
    "from torch import optim\n",
    "from torch.autograd import Variable as V\n",
    "\n",
    "\n",
    "net = NeuralMatrixFactorization2(max_user+1, max_item+1, num_genres)\n",
    "opt = optim.Adam(net.parameters(), lr=0.01)\n",
    "loss_f = nn.MSELoss()\n",
    "\n",
    "for epoch in range(5):\n",
    "    loss_log = []\n",
    "    net.train()\n",
    "    for x, y, g in train_loader:\n",
    "        x = V(x)\n",
    "        y = V(y)\n",
    "        g = V(g)\n",
    "        o = net(x, g)\n",
    "        loss = loss_f(o, y)\n",
    "        net.zero_grad()\n",
    "        loss.backward()\n",
    "        opt.step()\n",
    "        loss_log.append(loss.data[0])\n",
    "    net.eval()\n",
    "    test_score = eval_net(net, test_loader)\n",
    "    print(epoch, mean(loss_log), test_score, flush=True)"
   ]
  },
  {
   "cell_type": "code",
   "execution_count": 14,
   "metadata": {},
   "outputs": [
    {
     "data": {
      "text/plain": [
       "Variable containing:\n",
       " 2.8454\n",
       " 2.9914\n",
       " 3.1460\n",
       " 2.7222\n",
       " 2.9945\n",
       " 3.1822\n",
       " 3.4193\n",
       " 3.3634\n",
       " 3.0947\n",
       " 3.1323\n",
       " 3.2765\n",
       " 3.1129\n",
       " 3.0448\n",
       " 3.0545\n",
       " 3.1136\n",
       " 3.0758\n",
       " 3.2091\n",
       " 3.1114\n",
       " 3.2770\n",
       " 3.0088\n",
       " 3.1299\n",
       " 3.0486\n",
       " 3.2824\n",
       " 3.2219\n",
       "[torch.FloatTensor of size 24]"
      ]
     },
     "execution_count": 14,
     "metadata": {},
     "output_type": "execute_result"
    }
   ],
   "source": [
    "# userIdとジャンルのみの情報からレコメンドが可能になる\n",
    "# 例えば、ユーザーid=100に対してそれぞれのジャンル1つだけ含んだ映画のスコアを計算する\n",
    "\n",
    "# 指定した一だけ1で、残りが0のTensorを返す関数\n",
    "def make_genre_vector(i, max_len):\n",
    "    g = torch.zeros(max_len)\n",
    "    g[i] = 1\n",
    "    return g\n",
    "\n",
    "# num_genres分だけuserId=100とmvieId=0のTensorを作って結合する\n",
    "query_genres = [make_genre_vector(i, num_genres) for i in range(num_genres)]\n",
    "query_genres = torch.stack(query_genres, 1)\n",
    "query = torch.stack([\n",
    "    torch.LongTensor(num_genres).fill_(100),\n",
    "    torch.LongTensor(num_genres).fill_(0)\n",
    "], 1)\n",
    "# スコアを計算\n",
    "net(V(query), V(query_genres))"
   ]
  },
  {
   "cell_type": "code",
   "execution_count": null,
   "metadata": {},
   "outputs": [],
   "source": []
  }
 ],
 "metadata": {
  "kernelspec": {
   "display_name": "Python 3",
   "language": "python",
   "name": "python3"
  },
  "language_info": {
   "codemirror_mode": {
    "name": "ipython",
    "version": 3
   },
   "file_extension": ".py",
   "mimetype": "text/x-python",
   "name": "python",
   "nbconvert_exporter": "python",
   "pygments_lexer": "ipython3",
   "version": "3.5.1"
  }
 },
 "nbformat": 4,
 "nbformat_minor": 2
}
