{
 "cells": [
  {
   "cell_type": "code",
   "execution_count": 1,
   "metadata": {},
   "outputs": [],
   "source": [
    "import numpy as np\n",
    "import torch"
   ]
  },
  {
   "cell_type": "code",
   "execution_count": 2,
   "metadata": {},
   "outputs": [
    {
     "name": "stdout",
     "output_type": "stream",
     "text": [
      "\n",
      " 1  2\n",
      " 3  4\n",
      "[torch.FloatTensor of size 2x2]\n",
      "\n",
      "\n",
      " 1  2\n",
      " 3  4\n",
      "[torch.DoubleTensor of size 2x2]\n",
      "\n",
      "\n",
      " 0\n",
      " 1\n",
      " 2\n",
      " 3\n",
      " 4\n",
      " 5\n",
      " 6\n",
      " 7\n",
      " 8\n",
      " 9\n",
      "[torch.FloatTensor of size 10]\n",
      "\n",
      "\n",
      "    0     0     0  ...      0     0     0\n",
      "    0     0     0  ...      0     0     0\n",
      "    0     0     0  ...      0     0     0\n",
      "       ...          ⋱          ...       \n",
      "    0     0     0  ...      0     0     0\n",
      "    0     0     0  ...      0     0     0\n",
      "    0     0     0  ...      0     0     0\n",
      "[torch.FloatTensor of size 100x10]\n",
      "\n",
      "\n",
      " 1.5958 -0.3286 -1.4512  ...  -0.1099  0.3850 -0.7144\n",
      "-1.8940 -0.3707  0.1649  ...  -0.9513 -1.4990  0.4732\n",
      " 1.6352  1.8493  1.5804  ...   1.1350 -0.3261  1.1034\n",
      "          ...             ⋱             ...          \n",
      "-0.3454 -2.0512  0.0159  ...  -0.1132  0.3262 -0.4763\n",
      "-0.4328  1.0427  0.6515  ...  -1.4546  0.3984 -0.4524\n",
      "-2.7515  1.0538 -0.9293  ...  -1.6727  0.7116 -1.4669\n",
      "[torch.FloatTensor of size 100x10]\n",
      "\n"
     ]
    }
   ],
   "source": [
    "# テンソルを初期化する方法\n",
    "\n",
    "# python配列から初期化\n",
    "t = torch.Tensor([[1, 2], [3, 4]])\n",
    "print(t)\n",
    "\n",
    "# numpy配列から初期化\n",
    "x = np.array([[1, 2], [3, 4]])\n",
    "t = torch.DoubleTensor(x)\n",
    "print(t)\n",
    "\n",
    "# 連番の初期化\n",
    "t = torch.arange(0, 10)\n",
    "print(t)\n",
    "\n",
    "# zeroパディングの初期化\n",
    "t = torch.zeros(100, 10)\n",
    "print(t)\n",
    "\n",
    "# 形を指定してランダム初期化\n",
    "t = torch.randn(100, 10)\n",
    "print(t)"
   ]
  },
  {
   "cell_type": "code",
   "execution_count": 3,
   "metadata": {},
   "outputs": [
    {
     "data": {
      "text/plain": [
       "torch.Size([100, 10])"
      ]
     },
     "execution_count": 3,
     "metadata": {},
     "output_type": "execute_result"
    }
   ],
   "source": [
    "# テンソルのshapeはsizeメソッドで取得できる\n",
    "t.size()"
   ]
  },
  {
   "cell_type": "code",
   "execution_count": 4,
   "metadata": {},
   "outputs": [
    {
     "name": "stdout",
     "output_type": "stream",
     "text": [
      "[[1. 2.]\n",
      " [3. 4.]]\n"
     ]
    }
   ],
   "source": [
    "# numpyにすることもできる\n",
    "t = torch.Tensor([[1, 2], [3, 4]])\n",
    "x = t.numpy()\n",
    "print(x)"
   ]
  },
  {
   "cell_type": "code",
   "execution_count": 5,
   "metadata": {},
   "outputs": [
    {
     "name": "stdout",
     "output_type": "stream",
     "text": [
      "\n",
      " 1  2  3\n",
      " 4  5  6\n",
      "[torch.FloatTensor of size 2x3]\n",
      "\n",
      "3.0\n",
      "\n",
      " 1  2\n",
      " 4  5\n",
      "[torch.FloatTensor of size 2x2]\n",
      "\n",
      "\n",
      " 4\n",
      " 5\n",
      " 6\n",
      "[torch.FloatTensor of size 3]\n",
      "\n",
      "\n",
      "   1  100    3\n",
      "   4    5    6\n",
      "[torch.FloatTensor of size 2x3]\n",
      "\n",
      "\n",
      "   1  100    3\n",
      "   4  100    6\n",
      "[torch.FloatTensor of size 2x3]\n",
      "\n",
      "\n",
      "  1  20   3\n",
      "  4  20   6\n",
      "[torch.FloatTensor of size 2x3]\n",
      "\n"
     ]
    }
   ],
   "source": [
    "# テンソルに対するインデックス操作\n",
    "\n",
    "t = torch.Tensor([[1, 2, 3], [4, 5, 6]])\n",
    "print(t)\n",
    "\n",
    "# スカラの添字で指定\n",
    "print(t[0, 2])\n",
    "\n",
    "# スライスで指定\n",
    "print(t[:, :2])\n",
    "\n",
    "# マスクで指定\n",
    "print(t[t > 3])\n",
    "\n",
    "# スカラの添字で置換\n",
    "t[0, 1] = 100\n",
    "print(t)\n",
    "\n",
    "# スライスで置換\n",
    "t[:, 1] = 100\n",
    "print(t)\n",
    "\n",
    "# マスクで置換\n",
    "t[t > 10] = 20\n",
    "print(t)"
   ]
  },
  {
   "cell_type": "code",
   "execution_count": 6,
   "metadata": {},
   "outputs": [
    {
     "name": "stdout",
     "output_type": "stream",
     "text": [
      "\n",
      " 11\n",
      " 12\n",
      " 13\n",
      "[torch.FloatTensor of size 3]\n",
      "\n",
      "\n",
      " 1\n",
      " 4\n",
      " 9\n",
      "[torch.FloatTensor of size 3]\n",
      "\n",
      "\n",
      "  1\n",
      " -8\n",
      "-17\n",
      "[torch.FloatTensor of size 3]\n",
      "\n",
      "\n",
      "  8\n",
      "  9\n",
      " 10\n",
      "[torch.FloatTensor of size 3]\n",
      "\n",
      "\n",
      "   0    2    4\n",
      " 200  400  600\n",
      "[torch.FloatTensor of size 2x3]\n",
      "\n",
      "\n",
      "   1    3    5\n",
      " 101  202  303\n",
      "[torch.FloatTensor of size 2x3]\n",
      "\n",
      "\n",
      "   0    2    4\n",
      " 200  400  600\n",
      "[torch.FloatTensor of size 2x3]\n",
      "\n"
     ]
    }
   ],
   "source": [
    "# テンソルの演算\n",
    "\n",
    "\n",
    "v = torch.Tensor([1, 2, 3])\n",
    "w = torch.Tensor([0, 10, 20])\n",
    "m = torch.Tensor([[0, 1, 2], [100, 200, 300]])\n",
    "\n",
    "# ベクトルとスカラの足し算\n",
    "v2 = v + 10\n",
    "print(v2)\n",
    "\n",
    "# 同じサイズのベクトル同士の掛け算\n",
    "v2 = v ** 2\n",
    "print(v2)\n",
    "\n",
    "# 同じサイズのベクトルの引き算\n",
    "z = v - w\n",
    "print(z)\n",
    "\n",
    "# ベクトルの四則演算\n",
    "u = 2 * v - w / 10 + 6.0\n",
    "print(u)\n",
    "\n",
    "# マトリクスとスカラの掛け算\n",
    "m2 = m * 2.0\n",
    "print(m2)\n",
    "\n",
    "# マトリクスとベクトルの足し算\n",
    "m3 = m + v\n",
    "print(m3)\n",
    "\n",
    "# 同じサイズのマトリクスの足し算\n",
    "m4 = m + m\n",
    "print(m4)"
   ]
  },
  {
   "cell_type": "code",
   "execution_count": 7,
   "metadata": {},
   "outputs": [
    {
     "name": "stdout",
     "output_type": "stream",
     "text": [
      "\n",
      "  0.2502  -0.2825   0.2596  ...   -1.3865   3.6639   0.5516\n",
      " -0.0905   4.1228  -0.2076  ...   -0.0871   0.5379  -0.3108\n",
      "  5.2219   1.0394  -1.2734  ...   -0.5871  -2.2150   1.1989\n",
      "           ...               ⋱              ...            \n",
      " -0.7274   0.7761  -1.0083  ...   -0.0345   5.6067   8.7780\n",
      " -2.5741   0.3099  -0.6330  ...    2.4844   3.2910   4.4603\n",
      " -1.7738   1.8117   0.3867  ...    4.8237   0.6668  -0.7843\n",
      "[torch.FloatTensor of size 100x10]\n",
      "\n",
      "-0.027990938269998877\n",
      "-0.027990938269998877\n",
      "\n",
      "-0.1752\n",
      " 0.0499\n",
      "-0.1827\n",
      " 0.0044\n",
      " 0.0695\n",
      " 0.1136\n",
      "-0.1973\n",
      " 0.1044\n",
      "-0.1295\n",
      " 0.0630\n",
      "[torch.FloatTensor of size 10]\n",
      "\n"
     ]
    }
   ],
   "source": [
    "# 数学関数\n",
    "\n",
    "X = torch.randn(100, 10)\n",
    "\n",
    "# 絶対値\n",
    "y = X * 2 + torch.abs(X)\n",
    "print(y)\n",
    "\n",
    "# 平均\n",
    "m = torch.mean(X)\n",
    "print(m)\n",
    "\n",
    "# 平均値をメソッドみたいに実行できる\n",
    "m = X.mean()\n",
    "print(m)\n",
    "\n",
    "# 次元を指定して平均を出せる\n",
    "m2 = X.mean(0)\n",
    "print(m2)"
   ]
  },
  {
   "cell_type": "code",
   "execution_count": 8,
   "metadata": {},
   "outputs": [
    {
     "name": "stdout",
     "output_type": "stream",
     "text": [
      "\n",
      " 1\n",
      " 2\n",
      " 3\n",
      " 4\n",
      "[torch.FloatTensor of size 4x1]\n",
      "\n",
      "\n",
      " 1  2  3  4\n",
      "[torch.FloatTensor of size 1x4]\n",
      "\n",
      "\n",
      " 10  40\n",
      " 20  50\n",
      " 30  30\n",
      "[torch.FloatTensor of size 3x2]\n",
      "\n",
      "\n",
      "  1   2  10  20  30\n",
      "  3   4  40  50  30\n",
      "[torch.FloatTensor of size 2x5]\n",
      "\n"
     ]
    }
   ],
   "source": [
    "# 次元の変更\n",
    "\n",
    "x1 = torch.Tensor([[1, 2], [3, 4]])\n",
    "x2 = torch.Tensor([[10, 20, 30], [40, 50, 30]])\n",
    "\n",
    "# (2, 2)を(4, 1)に変換\n",
    "print(x1.view(4, 1))\n",
    "\n",
    "# (2, 2)を(1, 4)に変換、-1と指定すると次元の最大値に調節される\n",
    "print(x1.view(1, -1))\n",
    "\n",
    "# 転置行列\n",
    "print(x2.t())\n",
    "\n",
    "# 次元を指定して結合\n",
    "print(torch.cat([x1, x2], dim=1))"
   ]
  },
  {
   "cell_type": "code",
   "execution_count": 9,
   "metadata": {},
   "outputs": [
    {
     "name": "stdout",
     "output_type": "stream",
     "text": [
      "torch.Size([100, 64, 32, 3])\n",
      "torch.Size([100, 3, 64, 32])\n"
     ]
    }
   ],
   "source": [
    "# 次元の入れ替え\n",
    "hwc_img_data = torch.rand(100, 64, 32, 3)\n",
    "chw_img_data = hwc_img_data.transpose(1, 2).transpose(1, 3)\n",
    "print(hwc_img_data.shape)\n",
    "print(chw_img_data.shape)"
   ]
  },
  {
   "cell_type": "code",
   "execution_count": 10,
   "metadata": {},
   "outputs": [
    {
     "name": "stdout",
     "output_type": "stream",
     "text": [
      "torch.Size([100, 10])\n",
      "torch.Size([10])\n",
      "8.797904968261719\n",
      "torch.Size([100])\n",
      "torch.Size([10, 10])\n",
      "torch.Size([100, 10])\n",
      "torch.Size([10])\n",
      "torch.Size([10, 10])\n"
     ]
    }
   ],
   "source": [
    "# マトリクス\n",
    "m = torch.randn(100, 10)\n",
    "print(m.size())\n",
    "\n",
    "# ベクトル\n",
    "v = torch.randn(10)\n",
    "print(v.size())\n",
    "\n",
    "# ベクトル同士の内積（結果はスカラー）\n",
    "d = torch.dot(v, v)\n",
    "print(d)\n",
    "\n",
    "# マトリクスとベクトルの掛け算\n",
    "v2 = torch.mv(m, v)\n",
    "print(v2.size())\n",
    "\n",
    "# マトリクスとマトリクスの掛け算\n",
    "m2 = torch.mm(m.t(), m)\n",
    "print(m2.size())\n",
    "\n",
    "# 特異値分解: (m, n)行列を(m, m),(m, n),(n, n)行列に分解する\n",
    "u, s, v = torch.svd(m)\n",
    "print(u.size())\n",
    "print(s.size())\n",
    "print(v.size())"
   ]
  },
  {
   "cell_type": "code",
   "execution_count": 11,
   "metadata": {},
   "outputs": [
    {
     "name": "stdout",
     "output_type": "stream",
     "text": [
      "Variable containing:\n",
      "  7.9149\n",
      " 16.6416\n",
      " -3.7117\n",
      "[torch.FloatTensor of size 3]\n",
      "\n",
      "Variable containing:\n",
      "  7.9149\n",
      " 16.6416\n",
      " -3.7117\n",
      "[torch.FloatTensor of size 3]\n",
      "\n",
      "None\n"
     ]
    }
   ],
   "source": [
    "# 微分\n",
    "\n",
    "from torch.autograd import Variable as V\n",
    "\n",
    "x = V(torch.randn(100, 3))\n",
    "a = V(torch.Tensor([1, 2, 3]), requires_grad=True)\n",
    "y = torch.mv(x, a)\n",
    "o = y.sum()\n",
    "o.backward()\n",
    "print(a.grad)\n",
    "# 解析解と比較する\n",
    "print(x.sum(0))\n",
    "# xはrequires_gradを指定していないので微分は計算されない\n",
    "print(x.grad)"
   ]
  }
 ],
 "metadata": {
  "kernelspec": {
   "display_name": "Python 3",
   "language": "python",
   "name": "python3"
  },
  "language_info": {
   "codemirror_mode": {
    "name": "ipython",
    "version": 3
   },
   "file_extension": ".py",
   "mimetype": "text/x-python",
   "name": "python",
   "nbconvert_exporter": "python",
   "pygments_lexer": "ipython3",
   "version": "3.5.1"
  }
 },
 "nbformat": 4,
 "nbformat_minor": 2
}
