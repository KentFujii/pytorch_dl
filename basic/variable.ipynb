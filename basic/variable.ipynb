{
 "cells": [
  {
   "cell_type": "code",
   "execution_count": 1,
   "metadata": {},
   "outputs": [
    {
     "name": "stdout",
     "output_type": "stream",
     "text": [
      "Variable containing:\n",
      " -8.4799\n",
      " -7.0200\n",
      " 14.1876\n",
      "[torch.FloatTensor of size 3]\n",
      "\n",
      "Variable containing:\n",
      " -8.4799\n",
      " -7.0200\n",
      " 14.1876\n",
      "[torch.FloatTensor of size 3]\n",
      "\n",
      "None\n"
     ]
    }
   ],
   "source": [
    "# 微分\n",
    "import torch\n",
    "from torch.autograd import Variable as V\n",
    "\n",
    "x = V(torch.randn(100, 3))\n",
    "a = V(torch.Tensor([1, 2, 3]), requires_grad=True)\n",
    "y = torch.mv(x, a)\n",
    "o = y.sum()\n",
    "o.backward()\n",
    "print(a.grad)\n",
    "# 解析解と比較する\n",
    "print(x.sum(0))\n",
    "# xはrequires_gradを指定していないので微分は計算されない\n",
    "print(x.grad)"
   ]
  }
 ],
 "metadata": {
  "kernelspec": {
   "display_name": "Python 3",
   "language": "python",
   "name": "python3"
  },
  "language_info": {
   "codemirror_mode": {
    "name": "ipython",
    "version": 3
   },
   "file_extension": ".py",
   "mimetype": "text/x-python",
   "name": "python",
   "nbconvert_exporter": "python",
   "pygments_lexer": "ipython3",
   "version": "3.5.1"
  }
 },
 "nbformat": 4,
 "nbformat_minor": 2
}
